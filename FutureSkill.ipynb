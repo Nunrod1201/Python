{
  "nbformat": 4,
  "nbformat_minor": 0,
  "metadata": {
    "colab": {
      "provenance": [],
      "authorship_tag": "ABX9TyPcruDPl1/xpHtsDb+1n8Pi",
      "include_colab_link": true
    },
    "kernelspec": {
      "name": "python3",
      "display_name": "Python 3"
    },
    "language_info": {
      "name": "python"
    }
  },
  "cells": [
    {
      "cell_type": "markdown",
      "metadata": {
        "id": "view-in-github",
        "colab_type": "text"
      },
      "source": [
        "<a href=\"https://colab.research.google.com/github/Nunrod1201/Python/blob/main/FutureSkill.ipynb\" target=\"_parent\"><img src=\"https://colab.research.google.com/assets/colab-badge.svg\" alt=\"Open In Colab\"/></a>"
      ]
    },
    {
      "cell_type": "markdown",
      "source": [
        "**EP3**"
      ],
      "metadata": {
        "id": "RCpYpkD3n-lt"
      }
    },
    {
      "cell_type": "code",
      "execution_count": 1,
      "metadata": {
        "colab": {
          "base_uri": "https://localhost:8080/"
        },
        "id": "Qbvw8SYnj7JB",
        "outputId": "9d4841b7-efd8-4b9e-c8f7-19faa0d424ca"
      },
      "outputs": [
        {
          "output_type": "stream",
          "name": "stdout",
          "text": [
            "What is your name: Somsri\n",
            "What is your height in cm: 170\n",
            "What is your weight in cm: 50\n",
            "BMI of Somsri is:  17\n"
          ]
        }
      ],
      "source": [
        "name = input('What is your name: ')\n",
        "height = int(input(\"What is your height in cm: \"))\n",
        "weight = int(input(\"What is your weight in cm: \"))\n",
        "BMI = int(weight/height/height*10000)\n",
        "print('BMI of', name, 'is: ',BMI)"
      ]
    },
    {
      "cell_type": "markdown",
      "source": [
        "**EP4**"
      ],
      "metadata": {
        "id": "3NkTQIuGoBsC"
      }
    },
    {
      "cell_type": "markdown",
      "source": [
        "***Indexing***"
      ],
      "metadata": {
        "id": "PQHQ9beVrpnE"
      }
    },
    {
      "cell_type": "code",
      "source": [
        "#Indexing > list[]\n",
        "weekday = ['Monday', 'Tuesday', 'Wednesday', 'Thursday', 'Friday']\n",
        "weekday[0]"
      ],
      "metadata": {
        "colab": {
          "base_uri": "https://localhost:8080/",
          "height": 35
        },
        "id": "aei5cJ0fnMLM",
        "outputId": "2886e991-0656-4e0c-f484-553ad495f16c"
      },
      "execution_count": 16,
      "outputs": [
        {
          "output_type": "execute_result",
          "data": {
            "text/plain": [
              "'Monday'"
            ],
            "application/vnd.google.colaboratory.intrinsic+json": {
              "type": "string"
            }
          },
          "metadata": {},
          "execution_count": 16
        }
      ]
    },
    {
      "cell_type": "code",
      "source": [
        "weekday = ['Monday', '0.3', 'Wednesday', '5', 'Friday']\n",
        "weekday[1]"
      ],
      "metadata": {
        "colab": {
          "base_uri": "https://localhost:8080/",
          "height": 35
        },
        "id": "vpQVuh1YoVZ2",
        "outputId": "3404f534-68b3-4213-ed3a-b77f11a65a1e"
      },
      "execution_count": 4,
      "outputs": [
        {
          "output_type": "execute_result",
          "data": {
            "text/plain": [
              "'0.3'"
            ],
            "application/vnd.google.colaboratory.intrinsic+json": {
              "type": "string"
            }
          },
          "metadata": {},
          "execution_count": 4
        }
      ]
    },
    {
      "cell_type": "code",
      "source": [
        "#Nested Indexing > list = [,[]]\n",
        "nested_list = ['Monday', [1, 2, 3, 4, 5]]\n",
        "nested_list[1]"
      ],
      "metadata": {
        "colab": {
          "base_uri": "https://localhost:8080/"
        },
        "id": "Vic4dF2uot_l",
        "outputId": "81d18c1d-b849-496a-e04a-e2b9d90a3996"
      },
      "execution_count": 6,
      "outputs": [
        {
          "output_type": "execute_result",
          "data": {
            "text/plain": [
              "[1, 2, 3, 4, 5]"
            ]
          },
          "metadata": {},
          "execution_count": 6
        }
      ]
    },
    {
      "cell_type": "code",
      "source": [
        "#Nested Indexing > list = [,[]]\n",
        "nested_list = ['Monday', [1, 2, 3, 4, 5]]\n",
        "nested_list[1][2]"
      ],
      "metadata": {
        "colab": {
          "base_uri": "https://localhost:8080/"
        },
        "id": "H9hmCGv1pUhB",
        "outputId": "9b253f4c-533e-4435-bf24-f583c2b8d8f1"
      },
      "execution_count": 7,
      "outputs": [
        {
          "output_type": "execute_result",
          "data": {
            "text/plain": [
              "3"
            ]
          },
          "metadata": {},
          "execution_count": 7
        }
      ]
    },
    {
      "cell_type": "code",
      "source": [
        "#Negative Indexing ไล่จากหลังไปหน้า\n",
        "#The last element in the list is -1 index and The second to the last element in the list is -2 index\n",
        "weekday = ['Monday', 'Tuesday', 'Wednesday', 'Thursday', 'Friday']\n",
        "weekday[-3]"
      ],
      "metadata": {
        "colab": {
          "base_uri": "https://localhost:8080/",
          "height": 35
        },
        "id": "YZODAaPCpcxh",
        "outputId": "2506c8fb-a668-470f-9521-1221a11ef1b7"
      },
      "execution_count": 10,
      "outputs": [
        {
          "output_type": "execute_result",
          "data": {
            "text/plain": [
              "'Wednesday'"
            ],
            "application/vnd.google.colaboratory.intrinsic+json": {
              "type": "string"
            }
          },
          "metadata": {},
          "execution_count": 10
        }
      ]
    },
    {
      "cell_type": "markdown",
      "source": [
        "***Slicing***"
      ],
      "metadata": {
        "id": "0fxrtf6Frtg_"
      }
    },
    {
      "cell_type": "code",
      "source": [
        "#Slicing\n",
        "#เอาตัวนี้ถึงตัวนี้\n",
        "weekday = ['Monday', 'Tuesday', 'Wednesday', 'Thursday', 'Friday']\n",
        "weekday[0:3]"
      ],
      "metadata": {
        "colab": {
          "base_uri": "https://localhost:8080/"
        },
        "id": "RzB22yyfqCzj",
        "outputId": "48d7c1ef-f42d-4fca-b8eb-631b4beaafa6"
      },
      "execution_count": 11,
      "outputs": [
        {
          "output_type": "execute_result",
          "data": {
            "text/plain": [
              "['Monday', 'Tuesday', 'Wednesday']"
            ]
          },
          "metadata": {},
          "execution_count": 11
        }
      ]
    },
    {
      "cell_type": "code",
      "source": [
        "#Slicing\n",
        "#เอาตั้งแต่ตัวไปนี้เป็นต้นไป\n",
        "weekday = ['Monday', 'Tuesday', 'Wednesday', 'Thursday', 'Friday']\n",
        "weekday[3:]"
      ],
      "metadata": {
        "colab": {
          "base_uri": "https://localhost:8080/"
        },
        "id": "nTSUEvh0qdw7",
        "outputId": "6bfd5f1d-2ccb-46f3-c1fe-1489fa931adc"
      },
      "execution_count": 13,
      "outputs": [
        {
          "output_type": "execute_result",
          "data": {
            "text/plain": [
              "['Thursday', 'Friday']"
            ]
          },
          "metadata": {},
          "execution_count": 13
        }
      ]
    },
    {
      "cell_type": "code",
      "source": [
        "#Slicing\n",
        "#เอาตั้งแต่ตัวไปนี้เป็นต้นไป ย้อนกลับ\n",
        "weekday = ['Monday', 'Tuesday', 'Wednesday', 'Thursday', 'Friday']\n",
        "weekday[:-3]"
      ],
      "metadata": {
        "colab": {
          "base_uri": "https://localhost:8080/"
        },
        "id": "Rj9MgDJiqyf4",
        "outputId": "23e2e136-c861-44bd-9d5f-609c5b207ad5"
      },
      "execution_count": 15,
      "outputs": [
        {
          "output_type": "execute_result",
          "data": {
            "text/plain": [
              "['Monday', 'Tuesday']"
            ]
          },
          "metadata": {},
          "execution_count": 15
        }
      ]
    },
    {
      "cell_type": "markdown",
      "source": [
        "***Adding*** ***Elements*** ***to*** ***List***"
      ],
      "metadata": {
        "id": "s2MAnxNrrX9p"
      }
    },
    {
      "cell_type": "code",
      "source": [
        "### append method ###\n",
        "num_list = [10, 20, 30, 40, 50]\n",
        "num_list.append(60)\n",
        "print(num_list)"
      ],
      "metadata": {
        "colab": {
          "base_uri": "https://localhost:8080/"
        },
        "id": "mqRo7wLbsiZs",
        "outputId": "210b0d82-dce6-434f-fe31-fb4089295ca0"
      },
      "execution_count": 22,
      "outputs": [
        {
          "output_type": "stream",
          "name": "stdout",
          "text": [
            "[10, 20, 30, 40, 50, 60]\n"
          ]
        }
      ]
    },
    {
      "cell_type": "code",
      "source": [
        "### extend method ###\n",
        "num_list = [10, 20, 30, 40, 50]\n",
        "num_list.extend([60, 70, 80, 90, 100])\n",
        "print(num_list)"
      ],
      "metadata": {
        "colab": {
          "base_uri": "https://localhost:8080/"
        },
        "id": "7i6EGXlNq1_a",
        "outputId": "cf513fc8-f28a-49e8-9c0d-1c9bf6e88fa7"
      },
      "execution_count": 23,
      "outputs": [
        {
          "output_type": "stream",
          "name": "stdout",
          "text": [
            "[10, 20, 30, 40, 50, 60, 70, 80, 90, 100]\n"
          ]
        }
      ]
    },
    {
      "cell_type": "code",
      "source": [
        "### insert method ### แทรกได้ทีละตัว\n",
        "### list.insert(index, element) ###\n",
        "num_list = [10, 20, 30, 40, 50]\n",
        "num_list.insert(3, 70)\n",
        "print(num_list)"
      ],
      "metadata": {
        "colab": {
          "base_uri": "https://localhost:8080/"
        },
        "id": "1rRPlp-ysDeH",
        "outputId": "7d64bcb5-3080-4e28-9537-39cd64eecfbd"
      },
      "execution_count": 28,
      "outputs": [
        {
          "output_type": "stream",
          "name": "stdout",
          "text": [
            "[10, 20, 30, 70, 40, 50]\n"
          ]
        }
      ]
    },
    {
      "cell_type": "code",
      "source": [
        "### insert range of elements to a specific index in a list ### แทรกได้หลายๆตัว\n",
        "### list[index:number of element] = (element1, element2, ...)\n",
        "num_list = [10, 20, 30, 40, 80, 90, 100]\n",
        "num_list[4:3] = [50, 60, 70,]\n",
        "print(num_list)"
      ],
      "metadata": {
        "colab": {
          "base_uri": "https://localhost:8080/"
        },
        "id": "TZJKP5nisLJQ",
        "outputId": "6c14cc85-e27c-4b8d-8924-b4f1838f8233"
      },
      "execution_count": 30,
      "outputs": [
        {
          "output_type": "stream",
          "name": "stdout",
          "text": [
            "[10, 20, 30, 40, 50, 60, 70, 80, 90, 100]\n"
          ]
        }
      ]
    },
    {
      "cell_type": "markdown",
      "source": [
        "***Changing Elements of a List***"
      ],
      "metadata": {
        "id": "DwTi9m5HuTBX"
      }
    },
    {
      "cell_type": "code",
      "source": [
        "#ทีละตัว\n",
        "num_list = [10, 20, 30, 40, 50]\n",
        "num_list[0] = 0\n",
        "print(num_list)"
      ],
      "metadata": {
        "colab": {
          "base_uri": "https://localhost:8080/"
        },
        "id": "IHpa9rWiuWsZ",
        "outputId": "5a71b919-5be4-4fa7-9bab-a0c1c61a6e20"
      },
      "execution_count": 36,
      "outputs": [
        {
          "output_type": "stream",
          "name": "stdout",
          "text": [
            "[0, 20, 30, 40, 50]\n"
          ]
        }
      ]
    },
    {
      "cell_type": "code",
      "source": [
        "#หลายๆตัว\n",
        "num_list = [10, 20, 30, 40, 50]\n",
        "num_list[0:3] = [0, 1, 2]\n",
        "print(num_list)"
      ],
      "metadata": {
        "colab": {
          "base_uri": "https://localhost:8080/"
        },
        "id": "N4Tj_jLMug-H",
        "outputId": "424cc200-2022-4774-e7b6-57d19a720ecd"
      },
      "execution_count": 37,
      "outputs": [
        {
          "output_type": "stream",
          "name": "stdout",
          "text": [
            "[0, 1, 2, 40, 50]\n"
          ]
        }
      ]
    },
    {
      "cell_type": "markdown",
      "source": [
        "***Concatenating Lists***"
      ],
      "metadata": {
        "id": "5wVC4fScvB9a"
      }
    },
    {
      "cell_type": "code",
      "source": [
        "weekday = ['Monday', 'Tuesday', 'Wednesday', 'Thursday', 'Friday']\n",
        "weekend = ['Saturday', 'Sunday']\n",
        "week = weekday + weekend\n",
        "print(week)"
      ],
      "metadata": {
        "colab": {
          "base_uri": "https://localhost:8080/"
        },
        "id": "L4iIWgJ7un4m",
        "outputId": "144db53e-e774-4b20-d84b-8ec3b1a425b0"
      },
      "execution_count": 38,
      "outputs": [
        {
          "output_type": "stream",
          "name": "stdout",
          "text": [
            "['Monday', 'Tuesday', 'Wednesday', 'Thursday', 'Friday', 'Saturday', 'Sunday']\n"
          ]
        }
      ]
    },
    {
      "cell_type": "code",
      "source": [
        "week = ['Monday', 'Tuesday', 'Wednesday', 'Thursday', 'Friday']\n",
        "weekend = ['Saturday', 'Sunday']\n",
        "week += weekend\n",
        "print(week)"
      ],
      "metadata": {
        "colab": {
          "base_uri": "https://localhost:8080/"
        },
        "id": "QP-S-1mwvmMY",
        "outputId": "4a9cffcf-d19f-46ce-bb48-46ec5c642952"
      },
      "execution_count": 40,
      "outputs": [
        {
          "output_type": "stream",
          "name": "stdout",
          "text": [
            "['Monday', 'Tuesday', 'Wednesday', 'Thursday', 'Friday', 'Saturday', 'Sunday']\n"
          ]
        }
      ]
    },
    {
      "cell_type": "markdown",
      "source": [
        "***Repeating List***"
      ],
      "metadata": {
        "id": "xyndvwFCwB3r"
      }
    },
    {
      "cell_type": "code",
      "source": [
        "num_list = [10, 20, 30, 40, 50]*3\n",
        "print(num_list)"
      ],
      "metadata": {
        "colab": {
          "base_uri": "https://localhost:8080/"
        },
        "id": "ycJA_73IvuU4",
        "outputId": "d40fea04-3730-48bc-e248-f1c0d3bbeaf3"
      },
      "execution_count": 41,
      "outputs": [
        {
          "output_type": "stream",
          "name": "stdout",
          "text": [
            "[10, 20, 30, 40, 50, 10, 20, 30, 40, 50, 10, 20, 30, 40, 50]\n"
          ]
        }
      ]
    },
    {
      "cell_type": "code",
      "source": [
        "weekend = ['Saturday', 'Sunday']*3\n",
        "print(weekend)"
      ],
      "metadata": {
        "colab": {
          "base_uri": "https://localhost:8080/"
        },
        "id": "mVdX1BL0waCo",
        "outputId": "75e26fca-5cad-477f-8053-c0d6136a5504"
      },
      "execution_count": 42,
      "outputs": [
        {
          "output_type": "stream",
          "name": "stdout",
          "text": [
            "['Saturday', 'Sunday', 'Saturday', 'Sunday', 'Saturday', 'Sunday']\n"
          ]
        }
      ]
    },
    {
      "cell_type": "markdown",
      "source": [
        "***Deleting Elements from a List***"
      ],
      "metadata": {
        "id": "xkmc8LaEwmRr"
      }
    },
    {
      "cell_type": "code",
      "source": [
        "## remove() ## specific item\n",
        "## list.remove(specific element) ##\n",
        "num_list = [10, 20, 30, 40, 50]\n",
        "num_list.remove(20)\n",
        "print(num_list)"
      ],
      "metadata": {
        "colab": {
          "base_uri": "https://localhost:8080/"
        },
        "id": "EhupABAXweeB",
        "outputId": "4bb38b9d-4146-46b6-ebf0-b4ada84fc51e"
      },
      "execution_count": 43,
      "outputs": [
        {
          "output_type": "stream",
          "name": "stdout",
          "text": [
            "[10, 30, 40, 50]\n"
          ]
        }
      ]
    },
    {
      "cell_type": "code",
      "source": [
        "## pop() ## specific index\n",
        "## list.pop(specific index)\n",
        "num_list = [10, 20, 30, 40, 50]\n",
        "num_list.pop(1)\n",
        "print(num_list)"
      ],
      "metadata": {
        "colab": {
          "base_uri": "https://localhost:8080/"
        },
        "id": "wIwk-kBPxADZ",
        "outputId": "540f17ca-63d2-4576-c1c2-b92c0e766629"
      },
      "execution_count": 45,
      "outputs": [
        {
          "output_type": "stream",
          "name": "stdout",
          "text": [
            "[10, 30, 40, 50]\n"
          ]
        }
      ]
    },
    {
      "cell_type": "code",
      "source": [
        "## del() ## Can delete an element or range elements\n",
        "## 1.del list[index]\n",
        "## 2.del list[from index:to index]\n",
        "num_list = [10, 20, 30, 40, 50]\n",
        "del num_list[1]\n",
        "print(num_list)\n"
      ],
      "metadata": {
        "colab": {
          "base_uri": "https://localhost:8080/"
        },
        "id": "3JvyPGnCxTzW",
        "outputId": "43248bf9-70c7-49d4-e941-c9e134872b68"
      },
      "execution_count": 47,
      "outputs": [
        {
          "output_type": "stream",
          "name": "stdout",
          "text": [
            "[10, 30, 40, 50]\n"
          ]
        }
      ]
    },
    {
      "cell_type": "code",
      "source": [
        "num_list = [10, 20, 30, 40, 50]\n",
        "del num_list[1:3]\n",
        "print(num_list)"
      ],
      "metadata": {
        "colab": {
          "base_uri": "https://localhost:8080/"
        },
        "id": "QGxJD21Bx-Sj",
        "outputId": "a878dba0-219c-4972-8d95-799e0d64379d"
      },
      "execution_count": 48,
      "outputs": [
        {
          "output_type": "stream",
          "name": "stdout",
          "text": [
            "[10, 40, 50]\n"
          ]
        }
      ]
    },
    {
      "cell_type": "markdown",
      "source": [
        "***Clear Elements from List***"
      ],
      "metadata": {
        "id": "uGnftggHyfTv"
      }
    },
    {
      "cell_type": "code",
      "source": [
        "## list.clear()\n",
        "num_list = [10, 20, 30, 40, 50]\n",
        "num_list.clear()\n",
        "print(num_list)"
      ],
      "metadata": {
        "colab": {
          "base_uri": "https://localhost:8080/"
        },
        "id": "0gz7ofvHySZa",
        "outputId": "87d47703-5cfc-4f71-e6a2-5fee21e5900a"
      },
      "execution_count": 49,
      "outputs": [
        {
          "output_type": "stream",
          "name": "stdout",
          "text": [
            "[]\n"
          ]
        }
      ]
    },
    {
      "cell_type": "code",
      "source": [
        "## Trick > delete the list by replacing them with empty space[]\n",
        "num_list = [10, 20, 30, 40, 50]\n",
        "num_list[:] = []\n",
        "print(num_list)"
      ],
      "metadata": {
        "colab": {
          "base_uri": "https://localhost:8080/"
        },
        "id": "ELd1fPvnysg8",
        "outputId": "4798f698-4226-4c1c-f2e1-f100b5e4e810"
      },
      "execution_count": 50,
      "outputs": [
        {
          "output_type": "stream",
          "name": "stdout",
          "text": [
            "[]\n"
          ]
        }
      ]
    },
    {
      "cell_type": "markdown",
      "source": [
        "***Checking Membership in a list***\n",
        "\n",
        "1.   in\n",
        "2.   not in\n",
        "\n",
        "\n",
        "\n"
      ],
      "metadata": {
        "id": "ATeLK4yQzVaw"
      }
    },
    {
      "cell_type": "code",
      "source": [
        "num_list = [10, 20, 30, 40, 50]\n",
        "30 in num_list"
      ],
      "metadata": {
        "colab": {
          "base_uri": "https://localhost:8080/"
        },
        "id": "sTYpZwwMy_7L",
        "outputId": "877a30fc-f2eb-45d5-9c85-ff328217f67e"
      },
      "execution_count": 52,
      "outputs": [
        {
          "output_type": "execute_result",
          "data": {
            "text/plain": [
              "True"
            ]
          },
          "metadata": {},
          "execution_count": 52
        }
      ]
    },
    {
      "cell_type": "code",
      "source": [
        "weekend = ['Saturday', 'Sunday']\n",
        "'monday' not in weekend"
      ],
      "metadata": {
        "colab": {
          "base_uri": "https://localhost:8080/"
        },
        "id": "74dvBRZZzqTA",
        "outputId": "de3bf5dc-d79d-4734-af81-c88ae1dc8a22"
      },
      "execution_count": 54,
      "outputs": [
        {
          "output_type": "execute_result",
          "data": {
            "text/plain": [
              "True"
            ]
          },
          "metadata": {},
          "execution_count": 54
        }
      ]
    },
    {
      "cell_type": "markdown",
      "source": [
        "***Other Methods***"
      ],
      "metadata": {
        "id": "yI5uBTK90LuV"
      }
    },
    {
      "cell_type": "code",
      "source": [
        "##Sorting >> ascending>> list.sort()\n",
        "weekday = ['A', 'B', 'C', 'D', 'E']\n",
        "weekday.sort()\n",
        "print(weekday)"
      ],
      "metadata": {
        "colab": {
          "base_uri": "https://localhost:8080/"
        },
        "id": "DV-W9m2jzwKJ",
        "outputId": "f6eddcbe-b937-402e-d70a-e27cbf7e1d28"
      },
      "execution_count": 60,
      "outputs": [
        {
          "output_type": "stream",
          "name": "stdout",
          "text": [
            "['A', 'B', 'C', 'D', 'E']\n"
          ]
        }
      ]
    },
    {
      "cell_type": "code",
      "source": [
        "##reverse >> Descending >> list.reverse()\n",
        "weekday = ['A', 'B', 'C', 'D', 'E']\n",
        "weekday.reverse()\n",
        "print(weekday)"
      ],
      "metadata": {
        "colab": {
          "base_uri": "https://localhost:8080/"
        },
        "id": "lzwsD77a1NI7",
        "outputId": "b60b2159-4c3e-4f54-82b4-f7f31306d7bc"
      },
      "execution_count": 61,
      "outputs": [
        {
          "output_type": "stream",
          "name": "stdout",
          "text": [
            "['E', 'D', 'C', 'B', 'A']\n"
          ]
        }
      ]
    },
    {
      "cell_type": "code",
      "source": [
        "##count\n",
        "weekday = ['A', 'B', 'C', 'D', 'E', 'A']\n",
        "count_A = weekday.count('A')\n",
        "count_B = weekday.count('B')\n",
        "print(count_A)\n",
        "print(count_B)"
      ],
      "metadata": {
        "colab": {
          "base_uri": "https://localhost:8080/"
        },
        "id": "pLwXxIfK2OUJ",
        "outputId": "2648d466-2603-4fb6-936b-b3ec26fffcae"
      },
      "execution_count": 67,
      "outputs": [
        {
          "output_type": "stream",
          "name": "stdout",
          "text": [
            "2\n",
            "1\n"
          ]
        }
      ]
    },
    {
      "cell_type": "code",
      "source": [
        "##len() >> len(list) >> count the number of elements in a list\n",
        "weekday = ['A', 'B', 'C', 'D', 'E', 'A']\n",
        "len(weekday)"
      ],
      "metadata": {
        "colab": {
          "base_uri": "https://localhost:8080/"
        },
        "id": "q7292u7V2bLB",
        "outputId": "8c62b5b8-9261-40b7-9125-68963fd6a2b4"
      },
      "execution_count": 68,
      "outputs": [
        {
          "output_type": "execute_result",
          "data": {
            "text/plain": [
              "6"
            ]
          },
          "metadata": {},
          "execution_count": 68
        }
      ]
    },
    {
      "cell_type": "code",
      "source": [
        "##max >> max(list)\n",
        "num_list = [10, 20, 30, 40, 50]\n",
        "max(num_list)\n"
      ],
      "metadata": {
        "colab": {
          "base_uri": "https://localhost:8080/"
        },
        "id": "Dkt1Le2q3SQK",
        "outputId": "0f0bce8d-5191-4f34-c6fe-8a79ffc9ea4a"
      },
      "execution_count": 69,
      "outputs": [
        {
          "output_type": "execute_result",
          "data": {
            "text/plain": [
              "50"
            ]
          },
          "metadata": {},
          "execution_count": 69
        }
      ]
    },
    {
      "cell_type": "code",
      "source": [
        "##max >> max(list)\n",
        "weekday = ['Monday', 'Tuesday', 'Wednesday', 'Thursday', 'Friday']\n",
        "max(weekday)"
      ],
      "metadata": {
        "colab": {
          "base_uri": "https://localhost:8080/",
          "height": 35
        },
        "id": "t4UT3QOh3k6g",
        "outputId": "6de1cff2-1031-43a5-fe56-f71ff193f08b"
      },
      "execution_count": 70,
      "outputs": [
        {
          "output_type": "execute_result",
          "data": {
            "text/plain": [
              "'Wednesday'"
            ],
            "application/vnd.google.colaboratory.intrinsic+json": {
              "type": "string"
            }
          },
          "metadata": {},
          "execution_count": 70
        }
      ]
    },
    {
      "cell_type": "code",
      "source": [
        "##sum >> sum(list)\n",
        "num_list = [10, 20, 30, 40, 50]\n",
        "sum(num_list)"
      ],
      "metadata": {
        "colab": {
          "base_uri": "https://localhost:8080/"
        },
        "id": "VHgsA7Uh3rho",
        "outputId": "fa723faf-7ccc-4329-c1d2-736dca70ac62"
      },
      "execution_count": 71,
      "outputs": [
        {
          "output_type": "execute_result",
          "data": {
            "text/plain": [
              "150"
            ]
          },
          "metadata": {},
          "execution_count": 71
        }
      ]
    },
    {
      "cell_type": "code",
      "source": [],
      "metadata": {
        "id": "EgY-sSGw3yWE"
      },
      "execution_count": null,
      "outputs": []
    }
  ]
}