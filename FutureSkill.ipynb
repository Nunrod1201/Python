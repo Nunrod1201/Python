{
  "nbformat": 4,
  "nbformat_minor": 0,
  "metadata": {
    "colab": {
      "provenance": [],
      "authorship_tag": "ABX9TyMqnHG5/PCvsv7P34k7N2Ro",
      "include_colab_link": true
    },
    "kernelspec": {
      "name": "python3",
      "display_name": "Python 3"
    },
    "language_info": {
      "name": "python"
    }
  },
  "cells": [
    {
      "cell_type": "markdown",
      "metadata": {
        "id": "view-in-github",
        "colab_type": "text"
      },
      "source": [
        "<a href=\"https://colab.research.google.com/github/Nunrod1201/Python/blob/main/FutureSkill.ipynb\" target=\"_parent\"><img src=\"https://colab.research.google.com/assets/colab-badge.svg\" alt=\"Open In Colab\"/></a>"
      ]
    },
    {
      "cell_type": "markdown",
      "source": [
        "**EP3**"
      ],
      "metadata": {
        "id": "RCpYpkD3n-lt"
      }
    },
    {
      "cell_type": "code",
      "execution_count": null,
      "metadata": {
        "colab": {
          "base_uri": "https://localhost:8080/"
        },
        "id": "Qbvw8SYnj7JB",
        "outputId": "9d4841b7-efd8-4b9e-c8f7-19faa0d424ca"
      },
      "outputs": [
        {
          "output_type": "stream",
          "name": "stdout",
          "text": [
            "What is your name: Somsri\n",
            "What is your height in cm: 170\n",
            "What is your weight in cm: 50\n",
            "BMI of Somsri is:  17\n"
          ]
        }
      ],
      "source": [
        "name = input('What is your name: ')\n",
        "height = int(input(\"What is your height in cm: \"))\n",
        "weight = int(input(\"What is your weight in cm: \"))\n",
        "BMI = int(weight/height/height*10000)\n",
        "print('BMI of', name, 'is: ',BMI)"
      ]
    },
    {
      "cell_type": "markdown",
      "source": [
        "**EP4 Exploring List**"
      ],
      "metadata": {
        "id": "3NkTQIuGoBsC"
      }
    },
    {
      "cell_type": "markdown",
      "source": [
        "***Indexing***"
      ],
      "metadata": {
        "id": "PQHQ9beVrpnE"
      }
    },
    {
      "cell_type": "code",
      "source": [
        "#Indexing > list[]\n",
        "weekday = ['Monday', 'Tuesday', 'Wednesday', 'Thursday', 'Friday']\n",
        "weekday[0]"
      ],
      "metadata": {
        "colab": {
          "base_uri": "https://localhost:8080/",
          "height": 35
        },
        "id": "aei5cJ0fnMLM",
        "outputId": "2886e991-0656-4e0c-f484-553ad495f16c"
      },
      "execution_count": null,
      "outputs": [
        {
          "output_type": "execute_result",
          "data": {
            "text/plain": [
              "'Monday'"
            ],
            "application/vnd.google.colaboratory.intrinsic+json": {
              "type": "string"
            }
          },
          "metadata": {},
          "execution_count": 16
        }
      ]
    },
    {
      "cell_type": "code",
      "source": [
        "weekday = ['Monday', '0.3', 'Wednesday', '5', 'Friday']\n",
        "weekday[1]"
      ],
      "metadata": {
        "colab": {
          "base_uri": "https://localhost:8080/",
          "height": 35
        },
        "id": "vpQVuh1YoVZ2",
        "outputId": "3404f534-68b3-4213-ed3a-b77f11a65a1e"
      },
      "execution_count": null,
      "outputs": [
        {
          "output_type": "execute_result",
          "data": {
            "text/plain": [
              "'0.3'"
            ],
            "application/vnd.google.colaboratory.intrinsic+json": {
              "type": "string"
            }
          },
          "metadata": {},
          "execution_count": 4
        }
      ]
    },
    {
      "cell_type": "code",
      "source": [
        "#Nested Indexing > list = [,[]]\n",
        "nested_list = ['Monday', [1, 2, 3, 4, 5]]\n",
        "nested_list[1]"
      ],
      "metadata": {
        "colab": {
          "base_uri": "https://localhost:8080/"
        },
        "id": "Vic4dF2uot_l",
        "outputId": "81d18c1d-b849-496a-e04a-e2b9d90a3996"
      },
      "execution_count": null,
      "outputs": [
        {
          "output_type": "execute_result",
          "data": {
            "text/plain": [
              "[1, 2, 3, 4, 5]"
            ]
          },
          "metadata": {},
          "execution_count": 6
        }
      ]
    },
    {
      "cell_type": "code",
      "source": [
        "#Nested Indexing > list = [,[]]\n",
        "nested_list = ['Monday', [1, 2, 3, 4, 5]]\n",
        "nested_list[1][2]"
      ],
      "metadata": {
        "colab": {
          "base_uri": "https://localhost:8080/"
        },
        "id": "H9hmCGv1pUhB",
        "outputId": "9b253f4c-533e-4435-bf24-f583c2b8d8f1"
      },
      "execution_count": null,
      "outputs": [
        {
          "output_type": "execute_result",
          "data": {
            "text/plain": [
              "3"
            ]
          },
          "metadata": {},
          "execution_count": 7
        }
      ]
    },
    {
      "cell_type": "code",
      "source": [
        "#Negative Indexing ไล่จากหลังไปหน้า\n",
        "#The last element in the list is -1 index and The second to the last element in the list is -2 index\n",
        "weekday = ['Monday', 'Tuesday', 'Wednesday', 'Thursday', 'Friday']\n",
        "weekday[-3]"
      ],
      "metadata": {
        "colab": {
          "base_uri": "https://localhost:8080/",
          "height": 35
        },
        "id": "YZODAaPCpcxh",
        "outputId": "2506c8fb-a668-470f-9521-1221a11ef1b7"
      },
      "execution_count": null,
      "outputs": [
        {
          "output_type": "execute_result",
          "data": {
            "text/plain": [
              "'Wednesday'"
            ],
            "application/vnd.google.colaboratory.intrinsic+json": {
              "type": "string"
            }
          },
          "metadata": {},
          "execution_count": 10
        }
      ]
    },
    {
      "cell_type": "markdown",
      "source": [
        "***Slicing***"
      ],
      "metadata": {
        "id": "0fxrtf6Frtg_"
      }
    },
    {
      "cell_type": "code",
      "source": [
        "#Slicing\n",
        "#เอาตัวนี้ถึงตัวนี้\n",
        "weekday = ['Monday', 'Tuesday', 'Wednesday', 'Thursday', 'Friday']\n",
        "weekday[0:3]"
      ],
      "metadata": {
        "colab": {
          "base_uri": "https://localhost:8080/"
        },
        "id": "RzB22yyfqCzj",
        "outputId": "48d7c1ef-f42d-4fca-b8eb-631b4beaafa6"
      },
      "execution_count": null,
      "outputs": [
        {
          "output_type": "execute_result",
          "data": {
            "text/plain": [
              "['Monday', 'Tuesday', 'Wednesday']"
            ]
          },
          "metadata": {},
          "execution_count": 11
        }
      ]
    },
    {
      "cell_type": "code",
      "source": [
        "#Slicing\n",
        "#เอาตั้งแต่ตัวไปนี้เป็นต้นไป\n",
        "weekday = ['Monday', 'Tuesday', 'Wednesday', 'Thursday', 'Friday']\n",
        "weekday[3:]"
      ],
      "metadata": {
        "colab": {
          "base_uri": "https://localhost:8080/"
        },
        "id": "nTSUEvh0qdw7",
        "outputId": "6bfd5f1d-2ccb-46f3-c1fe-1489fa931adc"
      },
      "execution_count": null,
      "outputs": [
        {
          "output_type": "execute_result",
          "data": {
            "text/plain": [
              "['Thursday', 'Friday']"
            ]
          },
          "metadata": {},
          "execution_count": 13
        }
      ]
    },
    {
      "cell_type": "code",
      "source": [
        "#Slicing\n",
        "#เอาตั้งแต่ตัวไปนี้เป็นต้นไป ย้อนกลับ\n",
        "weekday = ['Monday', 'Tuesday', 'Wednesday', 'Thursday', 'Friday']\n",
        "weekday[:-3]"
      ],
      "metadata": {
        "colab": {
          "base_uri": "https://localhost:8080/"
        },
        "id": "Rj9MgDJiqyf4",
        "outputId": "23e2e136-c861-44bd-9d5f-609c5b207ad5"
      },
      "execution_count": null,
      "outputs": [
        {
          "output_type": "execute_result",
          "data": {
            "text/plain": [
              "['Monday', 'Tuesday']"
            ]
          },
          "metadata": {},
          "execution_count": 15
        }
      ]
    },
    {
      "cell_type": "markdown",
      "source": [
        "***Adding*** ***Elements*** ***to*** ***List***"
      ],
      "metadata": {
        "id": "s2MAnxNrrX9p"
      }
    },
    {
      "cell_type": "code",
      "source": [
        "### append method ###\n",
        "num_list = [10, 20, 30, 40, 50]\n",
        "num_list.append(60)\n",
        "print(num_list)"
      ],
      "metadata": {
        "colab": {
          "base_uri": "https://localhost:8080/"
        },
        "id": "mqRo7wLbsiZs",
        "outputId": "210b0d82-dce6-434f-fe31-fb4089295ca0"
      },
      "execution_count": null,
      "outputs": [
        {
          "output_type": "stream",
          "name": "stdout",
          "text": [
            "[10, 20, 30, 40, 50, 60]\n"
          ]
        }
      ]
    },
    {
      "cell_type": "code",
      "source": [
        "### extend method ###\n",
        "num_list = [10, 20, 30, 40, 50]\n",
        "num_list.extend([60, 70, 80, 90, 100])\n",
        "print(num_list)"
      ],
      "metadata": {
        "colab": {
          "base_uri": "https://localhost:8080/"
        },
        "id": "7i6EGXlNq1_a",
        "outputId": "cf513fc8-f28a-49e8-9c0d-1c9bf6e88fa7"
      },
      "execution_count": null,
      "outputs": [
        {
          "output_type": "stream",
          "name": "stdout",
          "text": [
            "[10, 20, 30, 40, 50, 60, 70, 80, 90, 100]\n"
          ]
        }
      ]
    },
    {
      "cell_type": "code",
      "source": [
        "### insert method ### แทรกได้ทีละตัว\n",
        "### list.insert(index, element) ###\n",
        "num_list = [10, 20, 30, 40, 50]\n",
        "num_list.insert(3, 70)\n",
        "print(num_list)"
      ],
      "metadata": {
        "colab": {
          "base_uri": "https://localhost:8080/"
        },
        "id": "1rRPlp-ysDeH",
        "outputId": "7d64bcb5-3080-4e28-9537-39cd64eecfbd"
      },
      "execution_count": null,
      "outputs": [
        {
          "output_type": "stream",
          "name": "stdout",
          "text": [
            "[10, 20, 30, 70, 40, 50]\n"
          ]
        }
      ]
    },
    {
      "cell_type": "code",
      "source": [
        "### insert range of elements to a specific index in a list ### แทรกได้หลายๆตัว\n",
        "### list[index:number of element] = (element1, element2, ...)\n",
        "num_list = [10, 20, 30, 40, 80, 90, 100]\n",
        "num_list[4:3] = [50, 60, 70,]\n",
        "print(num_list)"
      ],
      "metadata": {
        "colab": {
          "base_uri": "https://localhost:8080/"
        },
        "id": "TZJKP5nisLJQ",
        "outputId": "6c14cc85-e27c-4b8d-8924-b4f1838f8233"
      },
      "execution_count": null,
      "outputs": [
        {
          "output_type": "stream",
          "name": "stdout",
          "text": [
            "[10, 20, 30, 40, 50, 60, 70, 80, 90, 100]\n"
          ]
        }
      ]
    },
    {
      "cell_type": "markdown",
      "source": [
        "***Changing Elements of a List***"
      ],
      "metadata": {
        "id": "DwTi9m5HuTBX"
      }
    },
    {
      "cell_type": "code",
      "source": [
        "#ทีละตัว\n",
        "num_list = [10, 20, 30, 40, 50]\n",
        "num_list[0] = 0\n",
        "print(num_list)"
      ],
      "metadata": {
        "colab": {
          "base_uri": "https://localhost:8080/"
        },
        "id": "IHpa9rWiuWsZ",
        "outputId": "5a71b919-5be4-4fa7-9bab-a0c1c61a6e20"
      },
      "execution_count": null,
      "outputs": [
        {
          "output_type": "stream",
          "name": "stdout",
          "text": [
            "[0, 20, 30, 40, 50]\n"
          ]
        }
      ]
    },
    {
      "cell_type": "code",
      "source": [
        "#หลายๆตัว\n",
        "num_list = [10, 20, 30, 40, 50]\n",
        "num_list[0:3] = [0, 1, 2]\n",
        "print(num_list)"
      ],
      "metadata": {
        "colab": {
          "base_uri": "https://localhost:8080/"
        },
        "id": "N4Tj_jLMug-H",
        "outputId": "424cc200-2022-4774-e7b6-57d19a720ecd"
      },
      "execution_count": null,
      "outputs": [
        {
          "output_type": "stream",
          "name": "stdout",
          "text": [
            "[0, 1, 2, 40, 50]\n"
          ]
        }
      ]
    },
    {
      "cell_type": "markdown",
      "source": [
        "***Concatenating Lists***"
      ],
      "metadata": {
        "id": "5wVC4fScvB9a"
      }
    },
    {
      "cell_type": "code",
      "source": [
        "weekday = ['Monday', 'Tuesday', 'Wednesday', 'Thursday', 'Friday']\n",
        "weekend = ['Saturday', 'Sunday']\n",
        "week = weekday + weekend\n",
        "print(week)"
      ],
      "metadata": {
        "colab": {
          "base_uri": "https://localhost:8080/"
        },
        "id": "L4iIWgJ7un4m",
        "outputId": "144db53e-e774-4b20-d84b-8ec3b1a425b0"
      },
      "execution_count": null,
      "outputs": [
        {
          "output_type": "stream",
          "name": "stdout",
          "text": [
            "['Monday', 'Tuesday', 'Wednesday', 'Thursday', 'Friday', 'Saturday', 'Sunday']\n"
          ]
        }
      ]
    },
    {
      "cell_type": "code",
      "source": [
        "week = ['Monday', 'Tuesday', 'Wednesday', 'Thursday', 'Friday']\n",
        "weekend = ['Saturday', 'Sunday']\n",
        "week += weekend\n",
        "print(week)"
      ],
      "metadata": {
        "colab": {
          "base_uri": "https://localhost:8080/"
        },
        "id": "QP-S-1mwvmMY",
        "outputId": "4a9cffcf-d19f-46ce-bb48-46ec5c642952"
      },
      "execution_count": null,
      "outputs": [
        {
          "output_type": "stream",
          "name": "stdout",
          "text": [
            "['Monday', 'Tuesday', 'Wednesday', 'Thursday', 'Friday', 'Saturday', 'Sunday']\n"
          ]
        }
      ]
    },
    {
      "cell_type": "markdown",
      "source": [
        "***Repeating List***"
      ],
      "metadata": {
        "id": "xyndvwFCwB3r"
      }
    },
    {
      "cell_type": "code",
      "source": [
        "num_list = [10, 20, 30, 40, 50]*3\n",
        "print(num_list)"
      ],
      "metadata": {
        "colab": {
          "base_uri": "https://localhost:8080/"
        },
        "id": "ycJA_73IvuU4",
        "outputId": "d40fea04-3730-48bc-e248-f1c0d3bbeaf3"
      },
      "execution_count": null,
      "outputs": [
        {
          "output_type": "stream",
          "name": "stdout",
          "text": [
            "[10, 20, 30, 40, 50, 10, 20, 30, 40, 50, 10, 20, 30, 40, 50]\n"
          ]
        }
      ]
    },
    {
      "cell_type": "code",
      "source": [
        "weekend = ['Saturday', 'Sunday']*3\n",
        "print(weekend)"
      ],
      "metadata": {
        "colab": {
          "base_uri": "https://localhost:8080/"
        },
        "id": "mVdX1BL0waCo",
        "outputId": "75e26fca-5cad-477f-8053-c0d6136a5504"
      },
      "execution_count": null,
      "outputs": [
        {
          "output_type": "stream",
          "name": "stdout",
          "text": [
            "['Saturday', 'Sunday', 'Saturday', 'Sunday', 'Saturday', 'Sunday']\n"
          ]
        }
      ]
    },
    {
      "cell_type": "markdown",
      "source": [
        "***Deleting Elements from a List***"
      ],
      "metadata": {
        "id": "xkmc8LaEwmRr"
      }
    },
    {
      "cell_type": "code",
      "source": [
        "## remove() ## specific item\n",
        "## list.remove(specific element) ##\n",
        "num_list = [10, 20, 30, 40, 50]\n",
        "num_list.remove(20)\n",
        "print(num_list)"
      ],
      "metadata": {
        "colab": {
          "base_uri": "https://localhost:8080/"
        },
        "id": "EhupABAXweeB",
        "outputId": "4bb38b9d-4146-46b6-ebf0-b4ada84fc51e"
      },
      "execution_count": null,
      "outputs": [
        {
          "output_type": "stream",
          "name": "stdout",
          "text": [
            "[10, 30, 40, 50]\n"
          ]
        }
      ]
    },
    {
      "cell_type": "code",
      "source": [
        "## pop() ## specific index\n",
        "## list.pop(specific index)\n",
        "num_list = [10, 20, 30, 40, 50]\n",
        "num_list.pop(1)\n",
        "print(num_list)"
      ],
      "metadata": {
        "colab": {
          "base_uri": "https://localhost:8080/"
        },
        "id": "wIwk-kBPxADZ",
        "outputId": "540f17ca-63d2-4576-c1c2-b92c0e766629"
      },
      "execution_count": null,
      "outputs": [
        {
          "output_type": "stream",
          "name": "stdout",
          "text": [
            "[10, 30, 40, 50]\n"
          ]
        }
      ]
    },
    {
      "cell_type": "code",
      "source": [
        "## del() ## Can delete an element or range elements\n",
        "## 1.del list[index]\n",
        "## 2.del list[from index:to index]\n",
        "num_list = [10, 20, 30, 40, 50]\n",
        "del num_list[1]\n",
        "print(num_list)\n"
      ],
      "metadata": {
        "colab": {
          "base_uri": "https://localhost:8080/"
        },
        "id": "3JvyPGnCxTzW",
        "outputId": "43248bf9-70c7-49d4-e941-c9e134872b68"
      },
      "execution_count": null,
      "outputs": [
        {
          "output_type": "stream",
          "name": "stdout",
          "text": [
            "[10, 30, 40, 50]\n"
          ]
        }
      ]
    },
    {
      "cell_type": "code",
      "source": [
        "num_list = [10, 20, 30, 40, 50]\n",
        "del num_list[1:3]\n",
        "print(num_list)"
      ],
      "metadata": {
        "colab": {
          "base_uri": "https://localhost:8080/"
        },
        "id": "QGxJD21Bx-Sj",
        "outputId": "a878dba0-219c-4972-8d95-799e0d64379d"
      },
      "execution_count": null,
      "outputs": [
        {
          "output_type": "stream",
          "name": "stdout",
          "text": [
            "[10, 40, 50]\n"
          ]
        }
      ]
    },
    {
      "cell_type": "markdown",
      "source": [
        "***Clear Elements from List***"
      ],
      "metadata": {
        "id": "uGnftggHyfTv"
      }
    },
    {
      "cell_type": "code",
      "source": [
        "## list.clear()\n",
        "num_list = [10, 20, 30, 40, 50]\n",
        "num_list.clear()\n",
        "print(num_list)"
      ],
      "metadata": {
        "colab": {
          "base_uri": "https://localhost:8080/"
        },
        "id": "0gz7ofvHySZa",
        "outputId": "87d47703-5cfc-4f71-e6a2-5fee21e5900a"
      },
      "execution_count": null,
      "outputs": [
        {
          "output_type": "stream",
          "name": "stdout",
          "text": [
            "[]\n"
          ]
        }
      ]
    },
    {
      "cell_type": "code",
      "source": [
        "## Trick > delete the list by replacing them with empty space[]\n",
        "num_list = [10, 20, 30, 40, 50]\n",
        "num_list[:] = []\n",
        "print(num_list)"
      ],
      "metadata": {
        "colab": {
          "base_uri": "https://localhost:8080/"
        },
        "id": "ELd1fPvnysg8",
        "outputId": "4798f698-4226-4c1c-f2e1-f100b5e4e810"
      },
      "execution_count": null,
      "outputs": [
        {
          "output_type": "stream",
          "name": "stdout",
          "text": [
            "[]\n"
          ]
        }
      ]
    },
    {
      "cell_type": "markdown",
      "source": [
        "***Checking Membership in a list***\n",
        "\n",
        "1.   in\n",
        "2.   not in\n",
        "\n",
        "\n",
        "\n"
      ],
      "metadata": {
        "id": "ATeLK4yQzVaw"
      }
    },
    {
      "cell_type": "code",
      "source": [
        "num_list = [10, 20, 30, 40, 50]\n",
        "30 in num_list"
      ],
      "metadata": {
        "colab": {
          "base_uri": "https://localhost:8080/"
        },
        "id": "sTYpZwwMy_7L",
        "outputId": "877a30fc-f2eb-45d5-9c85-ff328217f67e"
      },
      "execution_count": null,
      "outputs": [
        {
          "output_type": "execute_result",
          "data": {
            "text/plain": [
              "True"
            ]
          },
          "metadata": {},
          "execution_count": 52
        }
      ]
    },
    {
      "cell_type": "code",
      "source": [
        "weekend = ['Saturday', 'Sunday']\n",
        "'monday' not in weekend"
      ],
      "metadata": {
        "colab": {
          "base_uri": "https://localhost:8080/"
        },
        "id": "74dvBRZZzqTA",
        "outputId": "de3bf5dc-d79d-4734-af81-c88ae1dc8a22"
      },
      "execution_count": null,
      "outputs": [
        {
          "output_type": "execute_result",
          "data": {
            "text/plain": [
              "True"
            ]
          },
          "metadata": {},
          "execution_count": 54
        }
      ]
    },
    {
      "cell_type": "markdown",
      "source": [
        "***Other Methods***"
      ],
      "metadata": {
        "id": "yI5uBTK90LuV"
      }
    },
    {
      "cell_type": "code",
      "source": [
        "##Sorting >> ascending>> list.sort()\n",
        "weekday = ['A', 'B', 'C', 'D', 'E']\n",
        "weekday.sort()\n",
        "print(weekday)"
      ],
      "metadata": {
        "colab": {
          "base_uri": "https://localhost:8080/"
        },
        "id": "DV-W9m2jzwKJ",
        "outputId": "f6eddcbe-b937-402e-d70a-e27cbf7e1d28"
      },
      "execution_count": null,
      "outputs": [
        {
          "output_type": "stream",
          "name": "stdout",
          "text": [
            "['A', 'B', 'C', 'D', 'E']\n"
          ]
        }
      ]
    },
    {
      "cell_type": "code",
      "source": [
        "##reverse >> Descending >> list.reverse()\n",
        "weekday = ['A', 'B', 'C', 'D', 'E']\n",
        "weekday.reverse()\n",
        "print(weekday)"
      ],
      "metadata": {
        "colab": {
          "base_uri": "https://localhost:8080/"
        },
        "id": "lzwsD77a1NI7",
        "outputId": "b60b2159-4c3e-4f54-82b4-f7f31306d7bc"
      },
      "execution_count": null,
      "outputs": [
        {
          "output_type": "stream",
          "name": "stdout",
          "text": [
            "['E', 'D', 'C', 'B', 'A']\n"
          ]
        }
      ]
    },
    {
      "cell_type": "code",
      "source": [
        "##count\n",
        "weekday = ['A', 'B', 'C', 'D', 'E', 'A']\n",
        "count_A = weekday.count('A')\n",
        "count_B = weekday.count('B')\n",
        "print(count_A)\n",
        "print(count_B)"
      ],
      "metadata": {
        "colab": {
          "base_uri": "https://localhost:8080/"
        },
        "id": "pLwXxIfK2OUJ",
        "outputId": "2648d466-2603-4fb6-936b-b3ec26fffcae"
      },
      "execution_count": null,
      "outputs": [
        {
          "output_type": "stream",
          "name": "stdout",
          "text": [
            "2\n",
            "1\n"
          ]
        }
      ]
    },
    {
      "cell_type": "code",
      "source": [
        "##len() >> len(list) >> count the number of elements in a list\n",
        "weekday = ['A', 'B', 'C', 'D', 'E', 'A']\n",
        "len(weekday)"
      ],
      "metadata": {
        "colab": {
          "base_uri": "https://localhost:8080/"
        },
        "id": "q7292u7V2bLB",
        "outputId": "8c62b5b8-9261-40b7-9125-68963fd6a2b4"
      },
      "execution_count": null,
      "outputs": [
        {
          "output_type": "execute_result",
          "data": {
            "text/plain": [
              "6"
            ]
          },
          "metadata": {},
          "execution_count": 68
        }
      ]
    },
    {
      "cell_type": "code",
      "source": [
        "##max >> max(list)\n",
        "num_list = [10, 20, 30, 40, 50]\n",
        "max(num_list)\n"
      ],
      "metadata": {
        "colab": {
          "base_uri": "https://localhost:8080/"
        },
        "id": "Dkt1Le2q3SQK",
        "outputId": "0f0bce8d-5191-4f34-c6fe-8a79ffc9ea4a"
      },
      "execution_count": null,
      "outputs": [
        {
          "output_type": "execute_result",
          "data": {
            "text/plain": [
              "50"
            ]
          },
          "metadata": {},
          "execution_count": 69
        }
      ]
    },
    {
      "cell_type": "code",
      "source": [
        "##max >> max(list)\n",
        "weekday = ['Monday', 'Tuesday', 'Wednesday', 'Thursday', 'Friday']\n",
        "max(weekday)"
      ],
      "metadata": {
        "colab": {
          "base_uri": "https://localhost:8080/",
          "height": 35
        },
        "id": "t4UT3QOh3k6g",
        "outputId": "6de1cff2-1031-43a5-fe56-f71ff193f08b"
      },
      "execution_count": null,
      "outputs": [
        {
          "output_type": "execute_result",
          "data": {
            "text/plain": [
              "'Wednesday'"
            ],
            "application/vnd.google.colaboratory.intrinsic+json": {
              "type": "string"
            }
          },
          "metadata": {},
          "execution_count": 70
        }
      ]
    },
    {
      "cell_type": "code",
      "source": [
        "##sum >> sum(list)\n",
        "num_list = [10, 20, 30, 40, 50]\n",
        "sum(num_list)"
      ],
      "metadata": {
        "colab": {
          "base_uri": "https://localhost:8080/"
        },
        "id": "VHgsA7Uh3rho",
        "outputId": "fa723faf-7ccc-4329-c1d2-736dca70ac62"
      },
      "execution_count": null,
      "outputs": [
        {
          "output_type": "execute_result",
          "data": {
            "text/plain": [
              "150"
            ]
          },
          "metadata": {},
          "execution_count": 71
        }
      ]
    },
    {
      "cell_type": "markdown",
      "source": [
        "**EP5 Exploring Dictionary**"
      ],
      "metadata": {
        "id": "wBedU1OAiziU"
      }
    },
    {
      "cell_type": "markdown",
      "source": [
        "my_tuble = ()\n",
        "  >> same as List but can not change the list like remove, append, ...\n",
        "my_set = set() or my_set = {}\n",
        "  >> group of unique elements (no repeat) เก็บเแพาะค่าที่ไม่ซ้ำถึงแม้เราจะใส่ข้อมูลซ้ำ\n",
        "  >> can contain element type except mutable, list\n",
        "  "
      ],
      "metadata": {
        "id": "PeAOCdmljDEq"
      }
    },
    {
      "cell_type": "code",
      "source": [
        "## Add Element to a Set\n",
        "num_set = {10, 20, 30 ,50}\n",
        "num_set.add(40)\n",
        "print(num_set)"
      ],
      "metadata": {
        "id": "EgY-sSGw3yWE",
        "colab": {
          "base_uri": "https://localhost:8080/"
        },
        "outputId": "d0b389b8-0768-463f-dd86-90ee173d95a2"
      },
      "execution_count": 73,
      "outputs": [
        {
          "output_type": "stream",
          "name": "stdout",
          "text": [
            "{40, 10, 50, 20, 30}\n"
          ]
        }
      ]
    },
    {
      "cell_type": "code",
      "source": [
        "## Update Element to a set\n",
        "num_set = {10, 20, 30 ,40}\n",
        "num_set.update([50, 60, 70])\n",
        "print(num_set)"
      ],
      "metadata": {
        "colab": {
          "base_uri": "https://localhost:8080/"
        },
        "id": "M_HoSEfLlRuS",
        "outputId": "d50f1c46-7537-49ef-b688-0deffd0c873d"
      },
      "execution_count": 75,
      "outputs": [
        {
          "output_type": "stream",
          "name": "stdout",
          "text": [
            "{70, 40, 10, 50, 20, 60, 30}\n"
          ]
        }
      ]
    },
    {
      "cell_type": "code",
      "source": [
        "## Delete an  Element from a set\n",
        "num_set = {10, 20, 30 ,40}\n",
        "num_set.remove(20)\n",
        "print(num_set)"
      ],
      "metadata": {
        "colab": {
          "base_uri": "https://localhost:8080/"
        },
        "id": "E4ZUfaGilg8W",
        "outputId": "2868146c-41dc-469a-a25a-9ddbc866c79e"
      },
      "execution_count": 76,
      "outputs": [
        {
          "output_type": "stream",
          "name": "stdout",
          "text": [
            "{40, 10, 30}\n"
          ]
        }
      ]
    },
    {
      "cell_type": "code",
      "source": [
        "## Clear Element from a set\n",
        "num_set = {10, 20, 30 ,40}\n",
        "num_set.clear()\n",
        "print(num_set)"
      ],
      "metadata": {
        "colab": {
          "base_uri": "https://localhost:8080/"
        },
        "id": "IMTuSOvql3St",
        "outputId": "f6cafdf5-72c3-45c7-b899-3b1c6a51d3aa"
      },
      "execution_count": 77,
      "outputs": [
        {
          "output_type": "stream",
          "name": "stdout",
          "text": [
            "set()\n"
          ]
        }
      ]
    },
    {
      "cell_type": "markdown",
      "source": [
        "***Set Operators***"
      ],
      "metadata": {
        "id": "DosUFnNjmEC0"
      }
    },
    {
      "cell_type": "code",
      "source": [
        "## Union\n",
        "set1 = {1, 2, 3}\n",
        "set2 = {1, 2, 4}\n",
        "set1.union(set2)"
      ],
      "metadata": {
        "colab": {
          "base_uri": "https://localhost:8080/"
        },
        "id": "Wvacj4eamAua",
        "outputId": "70ef8c66-d7b2-4505-b268-c58e61aea028"
      },
      "execution_count": 80,
      "outputs": [
        {
          "output_type": "execute_result",
          "data": {
            "text/plain": [
              "{1, 2, 3, 4}"
            ]
          },
          "metadata": {},
          "execution_count": 80
        }
      ]
    },
    {
      "cell_type": "code",
      "source": [
        "##Intersection\n",
        "set1 = {1, 2, 3}\n",
        "set2 = {1, 2, 4}\n",
        "set1.intersection(set2)"
      ],
      "metadata": {
        "colab": {
          "base_uri": "https://localhost:8080/"
        },
        "id": "jLF_1cWomee7",
        "outputId": "79ec6f20-be91-409f-bd76-8ef44f04d2ec"
      },
      "execution_count": 81,
      "outputs": [
        {
          "output_type": "execute_result",
          "data": {
            "text/plain": [
              "{1, 2}"
            ]
          },
          "metadata": {},
          "execution_count": 81
        }
      ]
    },
    {
      "cell_type": "code",
      "source": [
        "##Intersection\n",
        "set1 = {1, 2, 3}\n",
        "set2 = {1, 2, 4}\n",
        "set1&set2"
      ],
      "metadata": {
        "colab": {
          "base_uri": "https://localhost:8080/"
        },
        "id": "IsbDG4qym96q",
        "outputId": "6bec15a7-adb0-42ef-f9ff-60a106c559c0"
      },
      "execution_count": 82,
      "outputs": [
        {
          "output_type": "execute_result",
          "data": {
            "text/plain": [
              "{1, 2}"
            ]
          },
          "metadata": {},
          "execution_count": 82
        }
      ]
    },
    {
      "cell_type": "code",
      "source": [
        "##Difference >> มีใน1 ไม่มีใน2\n",
        "set1 = {1, 2, 3}\n",
        "set2 = {1, 2, 4}\n",
        "set1.difference(set2)"
      ],
      "metadata": {
        "colab": {
          "base_uri": "https://localhost:8080/"
        },
        "id": "zK6lyoIXnDsK",
        "outputId": "f2bbbaeb-af23-42ab-edca-9b3f0feee082"
      },
      "execution_count": 83,
      "outputs": [
        {
          "output_type": "execute_result",
          "data": {
            "text/plain": [
              "{3}"
            ]
          },
          "metadata": {},
          "execution_count": 83
        }
      ]
    },
    {
      "cell_type": "code",
      "source": [
        "## Symmetric Difference >> ตัวที่มีอยู่ในอันใดอันนึง ไม่ซ้ำ ตัวที่ต่างกัน\n",
        "set1 = {1, 2, 3}\n",
        "set2 = {1, 2, 4}\n",
        "set1.symmetric_difference(set2)"
      ],
      "metadata": {
        "colab": {
          "base_uri": "https://localhost:8080/"
        },
        "id": "nm3tXJTMnPA_",
        "outputId": "9eedd3bf-306d-473a-ab7e-f6899dae6faa"
      },
      "execution_count": 84,
      "outputs": [
        {
          "output_type": "execute_result",
          "data": {
            "text/plain": [
              "{3, 4}"
            ]
          },
          "metadata": {},
          "execution_count": 84
        }
      ]
    },
    {
      "cell_type": "code",
      "source": [
        "## In\n",
        "set1 = {1, 2, 3}\n",
        "set2 = {1, 2, 4}\n",
        "\n",
        "1 in set1"
      ],
      "metadata": {
        "colab": {
          "base_uri": "https://localhost:8080/"
        },
        "id": "keD0Dnkhnebo",
        "outputId": "1b2f66a5-e046-49cd-cad0-ec9900306720"
      },
      "execution_count": 85,
      "outputs": [
        {
          "output_type": "execute_result",
          "data": {
            "text/plain": [
              "True"
            ]
          },
          "metadata": {},
          "execution_count": 85
        }
      ]
    },
    {
      "cell_type": "code",
      "source": [
        "## Not In\n",
        "set1 = {1, 2, 3}\n",
        "set2 = {1, 2, 4}\n",
        "\n",
        "2 not in set2"
      ],
      "metadata": {
        "colab": {
          "base_uri": "https://localhost:8080/"
        },
        "id": "C_z8oL5GnzXL",
        "outputId": "32208886-1646-4ad5-d3f2-e69b941a90a8"
      },
      "execution_count": 87,
      "outputs": [
        {
          "output_type": "execute_result",
          "data": {
            "text/plain": [
              "False"
            ]
          },
          "metadata": {},
          "execution_count": 87
        }
      ]
    },
    {
      "cell_type": "markdown",
      "source": [
        "***Dictionary***"
      ],
      "metadata": {
        "id": "rXAkejnNn-Rf"
      }
    },
    {
      "cell_type": "code",
      "source": [
        "## Access Elements of Dictionary\n",
        "my_dictionary = {'name':'Somsri', 'subject':'python', 'score': 40.50, 'ranking':1}\n",
        "my_dictionary['name']"
      ],
      "metadata": {
        "colab": {
          "base_uri": "https://localhost:8080/",
          "height": 35
        },
        "id": "bxZLXFvYn5g2",
        "outputId": "33895844-820f-42c8-e5b6-6d5f8d999b38"
      },
      "execution_count": 91,
      "outputs": [
        {
          "output_type": "execute_result",
          "data": {
            "text/plain": [
              "'Somsri'"
            ],
            "application/vnd.google.colaboratory.intrinsic+json": {
              "type": "string"
            }
          },
          "metadata": {},
          "execution_count": 91
        }
      ]
    },
    {
      "cell_type": "code",
      "source": [
        "## Add and Change Key-value Pair to a Dictionary\n",
        "\n",
        "# Add New Key-value Pair\n",
        "my_dictionary = {'name':'Somsri', 'subject':'python', 'score': 40.50, 'ranking':1}\n",
        "my_dictionary['result'] = 'pass'\n",
        "print(my_dictionary)"
      ],
      "metadata": {
        "colab": {
          "base_uri": "https://localhost:8080/"
        },
        "id": "Vhn7OUm0o5IM",
        "outputId": "52a933cb-769d-4082-d958-427923986653"
      },
      "execution_count": 95,
      "outputs": [
        {
          "output_type": "stream",
          "name": "stdout",
          "text": [
            "{'name': 'Somsri', 'subject': 'python', 'score': 40.5, 'ranking': 1, 'result': 'pass'}\n"
          ]
        }
      ]
    },
    {
      "cell_type": "code",
      "source": [
        "# Overide the existing key-value pair >> อัปเดททับอันเดิมกรณีที่มีkey นั้นยุแล้ว\n",
        "my_dictionary['score'] = 98\n",
        "print(my_dictionary)"
      ],
      "metadata": {
        "colab": {
          "base_uri": "https://localhost:8080/"
        },
        "id": "5YBWT6Jbpgni",
        "outputId": "e8597975-9de8-424f-9653-d4321aed923d"
      },
      "execution_count": 97,
      "outputs": [
        {
          "output_type": "stream",
          "name": "stdout",
          "text": [
            "{'name': 'Somsri', 'subject': 'python', 'score': 98, 'ranking': 1, 'result': 'pass'}\n"
          ]
        }
      ]
    },
    {
      "cell_type": "code",
      "source": [
        "## Delete Key-value Pair to a Dictionary\n",
        "my_dictionary = {'name':'Somsri', 'subject':'python', 'score': 40.50, 'ranking':1}\n",
        "my_dictionary.pop('subject')\n",
        "print(my_dictionary)"
      ],
      "metadata": {
        "colab": {
          "base_uri": "https://localhost:8080/"
        },
        "id": "hdojeO9pqKjg",
        "outputId": "280b7ebb-d4f9-49c4-978e-7c8428fc0b35"
      },
      "execution_count": 98,
      "outputs": [
        {
          "output_type": "stream",
          "name": "stdout",
          "text": [
            "{'name': 'Somsri', 'score': 40.5, 'ranking': 1}\n"
          ]
        }
      ]
    },
    {
      "cell_type": "code",
      "source": [
        "## Clear Key-value Pair to a Dictionary\n",
        "my_dictionary = {'name':'Somsri', 'subject':'python', 'score': 40.50, 'ranking':1}\n",
        "my_dictionary.clear()\n",
        "print(my_dictionary)"
      ],
      "metadata": {
        "colab": {
          "base_uri": "https://localhost:8080/"
        },
        "id": "0i98vPDPq48L",
        "outputId": "175df746-268f-413f-9efa-6246549dc33c"
      },
      "execution_count": 99,
      "outputs": [
        {
          "output_type": "stream",
          "name": "stdout",
          "text": [
            "{}\n"
          ]
        }
      ]
    },
    {
      "cell_type": "code",
      "source": [
        "## Updating Dictionary\n",
        "my_dictionary1 = {'name':'Somsri', 'subject':'python', 'score': 40.50, 'ranking':1}\n",
        "my_dictionary2 = {'surname':'Sompong','Grade': 4, 'score': 50} ## update score\n",
        "my_dictionary1.update(my_dictionary2)\n",
        "print(my_dictionary1)"
      ],
      "metadata": {
        "colab": {
          "base_uri": "https://localhost:8080/"
        },
        "id": "pz59nh8Sq98s",
        "outputId": "eff2f8a5-562e-4195-ed53-97da2ee69caa"
      },
      "execution_count": 102,
      "outputs": [
        {
          "output_type": "stream",
          "name": "stdout",
          "text": [
            "{'name': 'Somsri', 'subject': 'python', 'score': 50, 'ranking': 1, 'surname': 'Sompong', 'Grade': 4}\n"
          ]
        }
      ]
    },
    {
      "cell_type": "code",
      "source": [
        "## List Elements in a Dictionary\n",
        "my_dictionary = {'name':'Somsri', 'subject':'python', 'score': 40.50, 'ranking':1}\n",
        "my_dictionary.items()"
      ],
      "metadata": {
        "colab": {
          "base_uri": "https://localhost:8080/"
        },
        "id": "ck_KqCqmrmRg",
        "outputId": "b69834b1-b63c-48c9-b6a1-e8bdf4deefe6"
      },
      "execution_count": 103,
      "outputs": [
        {
          "output_type": "execute_result",
          "data": {
            "text/plain": [
              "dict_items([('name', 'Somsri'), ('subject', 'python'), ('score', 40.5), ('ranking', 1)])"
            ]
          },
          "metadata": {},
          "execution_count": 103
        }
      ]
    },
    {
      "cell_type": "code",
      "source": [
        "my_dictionary = {'name':'Somsri', 'subject':'python', 'score': 40.50, 'ranking':1}\n",
        "my_dictionary.values()"
      ],
      "metadata": {
        "colab": {
          "base_uri": "https://localhost:8080/"
        },
        "id": "Ujq6WxlTsIby",
        "outputId": "5abcf965-a356-4b4d-ad50-a727e6f24790"
      },
      "execution_count": 104,
      "outputs": [
        {
          "output_type": "execute_result",
          "data": {
            "text/plain": [
              "dict_values(['Somsri', 'python', 40.5, 1])"
            ]
          },
          "metadata": {},
          "execution_count": 104
        }
      ]
    },
    {
      "cell_type": "code",
      "source": [
        "my_dictionary = {'name':'Somsri', 'subject':'python', 'score': 40.50, 'ranking':1}\n",
        "my_dictionary.keys()"
      ],
      "metadata": {
        "colab": {
          "base_uri": "https://localhost:8080/"
        },
        "id": "1xYPPWJssPWw",
        "outputId": "ee027bee-569a-4df1-e982-c665925859fb"
      },
      "execution_count": 105,
      "outputs": [
        {
          "output_type": "execute_result",
          "data": {
            "text/plain": [
              "dict_keys(['name', 'subject', 'score', 'ranking'])"
            ]
          },
          "metadata": {},
          "execution_count": 105
        }
      ]
    },
    {
      "cell_type": "code",
      "source": [
        "## CHeck Membership in a Dictionary\n",
        "### in\n",
        "'name' in my_dictionary"
      ],
      "metadata": {
        "colab": {
          "base_uri": "https://localhost:8080/"
        },
        "id": "N5GckdqwsSk4",
        "outputId": "a953220c-dffc-4eb1-f8e2-d030a2b4f027"
      },
      "execution_count": 106,
      "outputs": [
        {
          "output_type": "execute_result",
          "data": {
            "text/plain": [
              "True"
            ]
          },
          "metadata": {},
          "execution_count": 106
        }
      ]
    },
    {
      "cell_type": "code",
      "source": [
        "### not in\n",
        "'surname' not in my_dictionary"
      ],
      "metadata": {
        "colab": {
          "base_uri": "https://localhost:8080/"
        },
        "id": "Sld5s_susbFe",
        "outputId": "4baf86cd-de09-45fe-e52f-f5f48f511525"
      },
      "execution_count": 109,
      "outputs": [
        {
          "output_type": "execute_result",
          "data": {
            "text/plain": [
              "True"
            ]
          },
          "metadata": {},
          "execution_count": 109
        }
      ]
    },
    {
      "cell_type": "code",
      "source": [
        "##Len นับจำนวนkey\n",
        "my_dictionary = {'name':'Somsri', 'subject':'python', 'score': 40.50, 'ranking':1}\n",
        "len(my_dictionary)"
      ],
      "metadata": {
        "colab": {
          "base_uri": "https://localhost:8080/"
        },
        "id": "zNBjq3BPsfE6",
        "outputId": "8ee3e698-faef-464d-fa1a-712053be741f"
      },
      "execution_count": 110,
      "outputs": [
        {
          "output_type": "execute_result",
          "data": {
            "text/plain": [
              "4"
            ]
          },
          "metadata": {},
          "execution_count": 110
        }
      ]
    },
    {
      "cell_type": "code",
      "source": [
        "## Dict >> convert data type from list or tuble to dictionary\n",
        "pair_list = [('red','apple'),('yellow','banana'),('green','kiwi')]\n",
        "new_dict = dict(pair_list)\n",
        "print(new_dict)"
      ],
      "metadata": {
        "colab": {
          "base_uri": "https://localhost:8080/"
        },
        "id": "j1PVxGdCtDJ2",
        "outputId": "012f2b51-2c57-4f19-ffd4-213c306f7069"
      },
      "execution_count": 112,
      "outputs": [
        {
          "output_type": "stream",
          "name": "stdout",
          "text": [
            "{'red': 'apple', 'yellow': 'banana', 'green': 'kiwi'}\n"
          ]
        }
      ]
    },
    {
      "cell_type": "code",
      "source": [
        "type(new_dict)"
      ],
      "metadata": {
        "colab": {
          "base_uri": "https://localhost:8080/"
        },
        "id": "_BFVV0gmtlE3",
        "outputId": "3a2aefac-1c6c-4858-adeb-f470e8e95660"
      },
      "execution_count": 113,
      "outputs": [
        {
          "output_type": "execute_result",
          "data": {
            "text/plain": [
              "dict"
            ]
          },
          "metadata": {},
          "execution_count": 113
        }
      ]
    },
    {
      "cell_type": "markdown",
      "source": [
        "***EP6 Conditional Statements Loops***"
      ],
      "metadata": {
        "id": "TqdOR1-SuDn4"
      }
    },
    {
      "cell_type": "code",
      "source": [
        "## IF\n",
        "num_list = [10,20,30,40,50]\n",
        "guess = eval(input('Guess a number: '))\n",
        "if guess in num_list:\n",
        "    print('You guess is right !')\n",
        "print('You can get the prize only when your guess is right.') ##ไม่อยู่ในลูปif"
      ],
      "metadata": {
        "colab": {
          "base_uri": "https://localhost:8080/"
        },
        "id": "vvVf6L7auUQn",
        "outputId": "b487f7c7-df35-4c67-bf59-397b4ad14365"
      },
      "execution_count": 119,
      "outputs": [
        {
          "output_type": "stream",
          "name": "stdout",
          "text": [
            "Guess a number: 40\n",
            "You guess is right !\n",
            "You can get the prize only when your guess is right.\n"
          ]
        }
      ]
    },
    {
      "cell_type": "code",
      "source": [
        "## If Eles\n",
        "num_list = [10,20,30,40,50]\n",
        "guess = eval(input('Guess a number: '))\n",
        "if guess in num_list:\n",
        "    print('You guess is right !')\n",
        "else:\n",
        "    print('You guess is wrong !')\n",
        "print('You can get the prize only when your guess is right.')"
      ],
      "metadata": {
        "colab": {
          "base_uri": "https://localhost:8080/"
        },
        "id": "HR0J2yS4vSwa",
        "outputId": "a146b9d6-febe-4f04-80c2-2b68855c350c"
      },
      "execution_count": 117,
      "outputs": [
        {
          "output_type": "stream",
          "name": "stdout",
          "text": [
            "Guess a number: 60\n",
            "You guess is wrong !\n",
            "You can get the prize only when your guess is right.\n"
          ]
        }
      ]
    },
    {
      "cell_type": "code",
      "source": [
        "## if-elif-eles >> ถ้าเข้าคอนดิชั่นแรกแล้วจบเลย ไม่ไปต่อ\n",
        "firstPrize_num_list = [10,20,30,40,50]\n",
        "secondPrize_num_list = [10,70,80,90,100]\n",
        "\n",
        "guess = eval(input('Guess a number: '))\n",
        "\n",
        "if guess in firstPrize_num_list:\n",
        "  print('Congratulations, You win our first prize!')\n",
        "\n",
        "elif guess in secondPrize_num_list:\n",
        "  print('Congratulations, You win our Second prize!')\n",
        "\n",
        "else:\n",
        "  print('Sorry, You guess it wrong...')\n",
        "\n",
        "print('You can get the prize only when your guess is right.')"
      ],
      "metadata": {
        "colab": {
          "base_uri": "https://localhost:8080/"
        },
        "id": "Lg9iFdDzvvL_",
        "outputId": "64bfcd96-1ae9-4c6a-a801-d867d7382ca7"
      },
      "execution_count": 122,
      "outputs": [
        {
          "output_type": "stream",
          "name": "stdout",
          "text": [
            "Guess a number: 10\n",
            "Congratulations, You win our first prize!\n",
            "You can get the prize only when your guess is right.\n"
          ]
        }
      ]
    },
    {
      "cell_type": "code",
      "source": [
        "## Nested if statement >> ถ้าเข้าคอนดิชั่นแรกแล้วยังไปเชคคอนดิชั่นอื่นต่อ\n",
        "## if-elif-eles >> ถ้าเข้าคอนดิชั่นแรกแล้วจบเลย ไม่ไปต่อ\n",
        "firstPrize_num_list = [10,20,30,40,50]\n",
        "secondPrize_num_list = [10,70,80,90,100]\n",
        "\n",
        "guess = eval(input('Guess a number: '))\n",
        "\n",
        "if guess < 100:\n",
        "  if guess in firstPrize_num_list:\n",
        "      print('Congratulations, You win our first prize!')\n",
        "  elif guess in secondPrize_num_list:\n",
        "      print('Congratulations, You win our Second prize!')\n",
        "  else:\n",
        "      print('Sorry, You guess it wrong...')\n",
        "elif guess > 100:\n",
        "    print('You guess is too high')\n",
        "else:\n",
        "    print('Sorry, your guess is wrong')\n",
        "print('You can get the prize only when your guess is right.')"
      ],
      "metadata": {
        "colab": {
          "base_uri": "https://localhost:8080/"
        },
        "id": "k7O_TTZVxmwC",
        "outputId": "c73c5301-e3e1-4b23-f2c7-6b3951ce6d63"
      },
      "execution_count": 125,
      "outputs": [
        {
          "output_type": "stream",
          "name": "stdout",
          "text": [
            "Guess a number: 300\n",
            "You guess is too high\n",
            "You can get the prize only when your guess is right.\n"
          ]
        }
      ]
    },
    {
      "cell_type": "code",
      "source": [
        "## Loop with range function\n",
        "for i in range (5):\n",
        "    print('*'*(i+1))"
      ],
      "metadata": {
        "colab": {
          "base_uri": "https://localhost:8080/"
        },
        "id": "Zu84jyzkz4Ag",
        "outputId": "0738d15f-43d3-4ef6-ae11-1eec1a0ec973"
      },
      "execution_count": 127,
      "outputs": [
        {
          "output_type": "stream",
          "name": "stdout",
          "text": [
            "*\n",
            "**\n",
            "***\n",
            "****\n",
            "*****\n"
          ]
        }
      ]
    },
    {
      "cell_type": "code",
      "source": [
        "## Loop with list/tuple\n",
        "week =  ['Monday', 'Tuesday', 'Wednesday', 'Thursday', 'Friday', 'Saturday', 'Sunday']\n",
        "for day in week:\n",
        "    print(\"It's\", day, '!')"
      ],
      "metadata": {
        "colab": {
          "base_uri": "https://localhost:8080/"
        },
        "id": "0-SRmGsr1ZBU",
        "outputId": "d488e506-b2b8-45cc-f8d1-b5aae48b7912"
      },
      "execution_count": 131,
      "outputs": [
        {
          "output_type": "stream",
          "name": "stdout",
          "text": [
            "It's Monday !\n",
            "It's Tuesday !\n",
            "It's Wednesday !\n",
            "It's Thursday !\n",
            "It's Friday !\n",
            "It's Saturday !\n",
            "It's Sunday !\n"
          ]
        }
      ]
    },
    {
      "cell_type": "code",
      "source": [
        "##Loop with string\n",
        "for letter in \"python\":\n",
        "    print(letter)"
      ],
      "metadata": {
        "colab": {
          "base_uri": "https://localhost:8080/"
        },
        "id": "vePkA6me2Ejk",
        "outputId": "f0fe68fe-18f0-48ed-b6f8-19d16fd28b0a"
      },
      "execution_count": 132,
      "outputs": [
        {
          "output_type": "stream",
          "name": "stdout",
          "text": [
            "p\n",
            "y\n",
            "t\n",
            "h\n",
            "o\n",
            "n\n"
          ]
        }
      ]
    },
    {
      "cell_type": "code",
      "source": [
        "## While Loop >> รันไปเรื่อยๆจนกว่าจะถูกต้อง\n",
        "user_input = ' '\n",
        "while user_input != 'unlock':\n",
        "    user_input = input((\"what is the password?: \"))\n",
        "print('Yes, the password is ' + user_input + '. You may enter.')"
      ],
      "metadata": {
        "colab": {
          "base_uri": "https://localhost:8080/"
        },
        "id": "jL-Z72LY2jsD",
        "outputId": "98420d3f-1720-4607-f202-8edeb1ce93df"
      },
      "execution_count": 134,
      "outputs": [
        {
          "output_type": "stream",
          "name": "stdout",
          "text": [
            "what is the password?: 1234\n",
            "what is the password?: unlock\n",
            "Yes, the password is unlock. You may enter.\n"
          ]
        }
      ]
    },
    {
      "cell_type": "code",
      "source": [
        "## Break statement >> หยุดเมื่อตรงคอนดิชั่น\n",
        "week = ['Monday', 'Tuesday', 'Wednesday', 'Thursday', 'Friday', 'Saturday', 'Sunday']\n",
        "for day in week:\n",
        "  if day == 'Saturday':\n",
        "    break\n",
        "  print(day, 'is a weekday')\n",
        "print('These are all weekdays')"
      ],
      "metadata": {
        "colab": {
          "base_uri": "https://localhost:8080/"
        },
        "id": "Qz9OLHaj3Nk-",
        "outputId": "0eba4c3d-4a94-48dc-b469-bf5955232c92"
      },
      "execution_count": 136,
      "outputs": [
        {
          "output_type": "stream",
          "name": "stdout",
          "text": [
            "Monday is a weekday\n",
            "Tuesday is a weekday\n",
            "Wednesday is a weekday\n",
            "Thursday is a weekday\n",
            "Friday is a weekday\n",
            "These are all weekdays\n"
          ]
        }
      ]
    },
    {
      "cell_type": "code",
      "source": [
        "## infinite loop >> รันไปเรื่อยๆไม่สนใจคอนดิชั่นอะไรเลย จนกว่าจะเจอสิ่งที่ถูกถึงจะหยุด\n",
        "user_input = ' '\n",
        "while True:\n",
        "  user_input = input(('What is the password?: '))\n",
        "  if user_input == 'unlock' :\n",
        "    break\n",
        "print('Yes, the password is ' + user_input + '. You may enter.')"
      ],
      "metadata": {
        "colab": {
          "base_uri": "https://localhost:8080/"
        },
        "id": "C3FgaC9n5B6d",
        "outputId": "82a83673-5f2d-45e9-e4c5-4e3c74e198c1"
      },
      "execution_count": 141,
      "outputs": [
        {
          "output_type": "stream",
          "name": "stdout",
          "text": [
            "What is the password?: ,lmwe\n",
            "What is the password?:  kmwef\n",
            "What is the password?: kmkwem\n",
            "What is the password?: unlock\n",
            "Yes, the password is unlock. You may enter.\n"
          ]
        }
      ]
    },
    {
      "cell_type": "code",
      "source": [
        "## Continue statement >> ข้ามรอบ >> ข้ามเมื่อเจอsaturday\n",
        "week = ['Monday', 'Tuesday', 'Wednesday', 'Thursday', 'Friday', 'Saturday', 'Sunday']\n",
        "for day in week:\n",
        "  if day == 'Saturday':\n",
        "    continue\n",
        "  print('Today is', day, '!')\n",
        "print('What day is missing?!')"
      ],
      "metadata": {
        "colab": {
          "base_uri": "https://localhost:8080/"
        },
        "id": "z0zojTjm68LQ",
        "outputId": "938b9599-ece0-4eec-ad94-55fa344d1a5f"
      },
      "execution_count": 142,
      "outputs": [
        {
          "output_type": "stream",
          "name": "stdout",
          "text": [
            "Today is Monday !\n",
            "Today is Tuesday !\n",
            "Today is Wednesday !\n",
            "Today is Thursday !\n",
            "Today is Friday !\n",
            "Today is Sunday !\n",
            "What day is missing?!\n"
          ]
        }
      ]
    },
    {
      "cell_type": "code",
      "source": [
        "## Pass Statement >> ข้ามลูปไม่ต้องสนใจลูปนี้\n",
        "weekday = ['Monday', 'Tuesday', 'Wednesday', 'Thursday', 'Friday']\n",
        "weekend = ['Saturday', 'Sunday']\n",
        "for day in weekday:\n",
        "  if day == 'Saturday':\n",
        "    pass\n",
        "for day in weekend:\n",
        "  print('Today is', day, '!')"
      ],
      "metadata": {
        "colab": {
          "base_uri": "https://localhost:8080/"
        },
        "id": "B1mn7_4s77Kr",
        "outputId": "012781fc-d1b2-4cd6-a414-b5f1f14d8562"
      },
      "execution_count": 143,
      "outputs": [
        {
          "output_type": "stream",
          "name": "stdout",
          "text": [
            "Today is Saturday !\n",
            "Today is Sunday !\n"
          ]
        }
      ]
    },
    {
      "cell_type": "markdown",
      "source": [
        "***EP7 User-defined Function***"
      ],
      "metadata": {
        "id": "_qMLeUeq9BxP"
      }
    },
    {
      "cell_type": "code",
      "source": [
        "### Function with returning values(s) & how to call function\n",
        "def tempConversion(celsiusTemp): ## function name\n",
        "  fahrenheitTemp = (celsiusTemp*9/5) + 32\n",
        "  return(fahrenheitTemp)\n",
        "\n",
        "convertedTemp = tempConversion(30) ## Call function\n",
        "print(convertedTemp)"
      ],
      "metadata": {
        "colab": {
          "base_uri": "https://localhost:8080/"
        },
        "id": "oNY1LKD78sh_",
        "outputId": "19bf09c5-43fa-4c98-dafa-d9d1580b74fa"
      },
      "execution_count": 147,
      "outputs": [
        {
          "output_type": "stream",
          "name": "stdout",
          "text": [
            "86.0\n"
          ]
        }
      ]
    },
    {
      "cell_type": "code",
      "source": [
        "### Global variable\n",
        "a = 1\n",
        "def func1():\n",
        "  print('Inside func1() a =', a)\n",
        "def func2():\n",
        "  a = 2\n",
        "  print('Inside func2() a =', a)\n",
        "def func3():\n",
        "  global a\n",
        "  a = 3\n",
        "  print('Inside func3() a =', a)\n",
        "\n",
        "#Global scope\n",
        "print('global a =', a)\n",
        "func1()\n",
        "print('global a =', a)\n",
        "func2()\n",
        "print('global a =', a)\n",
        "func3()\n",
        "print('global a =', a)"
      ],
      "metadata": {
        "colab": {
          "base_uri": "https://localhost:8080/"
        },
        "id": "Dxe_xlff-XI_",
        "outputId": "5d940151-2a9a-4b9b-9653-44ebcea66a61"
      },
      "execution_count": 150,
      "outputs": [
        {
          "output_type": "stream",
          "name": "stdout",
          "text": [
            "global a = 1\n",
            "Inside func1() a = 1\n",
            "global a = 1\n",
            "Inside func2() a = 2\n",
            "global a = 1\n",
            "Inside func3() a = 3\n",
            "global a = 3\n"
          ]
        }
      ]
    },
    {
      "cell_type": "code",
      "source": [
        "##Lambda Function\n",
        "square = lambda y : y*y\n",
        "print(square(5))"
      ],
      "metadata": {
        "colab": {
          "base_uri": "https://localhost:8080/"
        },
        "id": "dwthADJVAhhq",
        "outputId": "3c26839a-ae2d-4b69-d77a-1c89da7f2de8"
      },
      "execution_count": 151,
      "outputs": [
        {
          "output_type": "stream",
          "name": "stdout",
          "text": [
            "25\n"
          ]
        }
      ]
    },
    {
      "cell_type": "code",
      "source": [
        "##Normal function\n",
        "def square(y):\n",
        "  return y*y\n",
        "print(square(5))"
      ],
      "metadata": {
        "colab": {
          "base_uri": "https://localhost:8080/"
        },
        "id": "H2to8PmbB6zw",
        "outputId": "c3f88532-44d0-4e9e-b78c-69197efc667a"
      },
      "execution_count": 152,
      "outputs": [
        {
          "output_type": "stream",
          "name": "stdout",
          "text": [
            "25\n"
          ]
        }
      ]
    },
    {
      "cell_type": "code",
      "source": [
        "##Lambda Function with map()\n",
        "num_list = [1,2,3,4,5,6,7,8,9,10]\n",
        "square_list = map(lambda x: x*x, num_list)\n",
        "print(list(square_list))"
      ],
      "metadata": {
        "colab": {
          "base_uri": "https://localhost:8080/"
        },
        "id": "I98m45fbCKzP",
        "outputId": "8c37bb33-d25a-4550-ed91-374624042261"
      },
      "execution_count": 153,
      "outputs": [
        {
          "output_type": "stream",
          "name": "stdout",
          "text": [
            "[1, 4, 9, 16, 25, 36, 49, 64, 81, 100]\n"
          ]
        }
      ]
    },
    {
      "cell_type": "code",
      "source": [
        "##Lambda Function with filter()\n",
        "num_list = [1,2,3,4,5,6,7,8,9,10]\n",
        "even_num_list = filter(lambda x: x%2 ==0, num_list)\n",
        "print(list(even_num_list))\n",
        "\n",
        "## x%2 >> x mod ไม่เอาทศนิยม"
      ],
      "metadata": {
        "colab": {
          "base_uri": "https://localhost:8080/"
        },
        "id": "t2BahaMyClgG",
        "outputId": "31f220da-4f4e-4adb-9d8f-ebbd69cce02d"
      },
      "execution_count": 156,
      "outputs": [
        {
          "output_type": "stream",
          "name": "stdout",
          "text": [
            "[2, 4, 6, 8, 10]\n"
          ]
        }
      ]
    },
    {
      "cell_type": "code",
      "source": [],
      "metadata": {
        "id": "nOhRS8vmDBsF"
      },
      "execution_count": null,
      "outputs": []
    }
  ]
}