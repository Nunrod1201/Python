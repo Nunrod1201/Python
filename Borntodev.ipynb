{
  "nbformat": 4,
  "nbformat_minor": 0,
  "metadata": {
    "colab": {
      "provenance": [],
      "authorship_tag": "ABX9TyM1C0M4ewwL3stbPNMkR0U8",
      "include_colab_link": true
    },
    "kernelspec": {
      "name": "python3",
      "display_name": "Python 3"
    },
    "language_info": {
      "name": "python"
    }
  },
  "cells": [
    {
      "cell_type": "markdown",
      "metadata": {
        "id": "view-in-github",
        "colab_type": "text"
      },
      "source": [
        "<a href=\"https://colab.research.google.com/github/Nunrod1201/Python/blob/main/Borntodev.ipynb\" target=\"_parent\"><img src=\"https://colab.research.google.com/assets/colab-badge.svg\" alt=\"Open In Colab\"/></a>"
      ]
    },
    {
      "cell_type": "markdown",
      "source": [
        "**BorntodevEP1**"
      ],
      "metadata": {
        "id": "3TSArv5XOAi_"
      }
    },
    {
      "cell_type": "code",
      "execution_count": 3,
      "metadata": {
        "colab": {
          "base_uri": "https://localhost:8080/"
        },
        "id": "U_W3dk2UMmc_",
        "outputId": "d16ae712-491f-44be-fc79-9cd481a4e8fc"
      },
      "outputs": [
        {
          "output_type": "stream",
          "name": "stdout",
          "text": [
            "<class 'int'>\n",
            "yes\n"
          ]
        }
      ],
      "source": [
        "#Borntodav1\n",
        "print(type(5+5))\n",
        "if 5 > 4:\n",
        "  print(\"yes\")"
      ]
    },
    {
      "cell_type": "code",
      "source": [
        "x = 10\n",
        "y = 12\n",
        "z = x + y\n",
        "print(z)"
      ],
      "metadata": {
        "colab": {
          "base_uri": "https://localhost:8080/"
        },
        "id": "yf8aGdfbNLk1",
        "outputId": "13ed256b-f974-4e26-d1cb-1fa26df50540"
      },
      "execution_count": 8,
      "outputs": [
        {
          "output_type": "stream",
          "name": "stdout",
          "text": [
            "22\n"
          ]
        }
      ]
    },
    {
      "cell_type": "code",
      "source": [
        "age = 15\n",
        "if age < 18:\n",
        "  print(\"Stop!\")\n",
        "  print(type(True))"
      ],
      "metadata": {
        "colab": {
          "base_uri": "https://localhost:8080/"
        },
        "id": "nWXgpKObOuS8",
        "outputId": "2d1fa79e-4f23-4842-9497-8bc999ec6923"
      },
      "execution_count": 12,
      "outputs": [
        {
          "output_type": "stream",
          "name": "stdout",
          "text": [
            "Stop!\n",
            "<class 'bool'>\n"
          ]
        }
      ]
    },
    {
      "cell_type": "code",
      "source": [
        "#Change type str to int\n",
        "age = input(\"age :\")\n",
        "if int(age) < 18:\n",
        "  print(\"Stop!\")"
      ],
      "metadata": {
        "colab": {
          "base_uri": "https://localhost:8080/"
        },
        "id": "wFOFxIDUPdOG",
        "outputId": "87f42658-0664-4abe-fade-1266eebcb61e"
      },
      "execution_count": 13,
      "outputs": [
        {
          "output_type": "stream",
          "name": "stdout",
          "text": [
            "age :15\n",
            "Stop!\n"
          ]
        }
      ]
    },
    {
      "cell_type": "code",
      "source": [
        "#Spit text ตัวแรกที่เอา:ตัวสุดท้ายที่ไม่เอา\n",
        "text = \"Hello\"\n",
        "print(text[0:2])"
      ],
      "metadata": {
        "colab": {
          "base_uri": "https://localhost:8080/"
        },
        "id": "8IPam0h4QEqb",
        "outputId": "d30999e2-d6c5-416b-fa83-05a948f7fc89"
      },
      "execution_count": 19,
      "outputs": [
        {
          "output_type": "stream",
          "name": "stdout",
          "text": [
            "He\n"
          ]
        }
      ]
    },
    {
      "cell_type": "code",
      "source": [
        "#list\n",
        "customer_list = [\"Somsri\",\"Somsak\",\"Sompong\"]\n",
        "print(customer_list[0])\n",
        "print(customer_list)\n",
        "print(\"Hello\", customer_list[0:2])"
      ],
      "metadata": {
        "colab": {
          "base_uri": "https://localhost:8080/"
        },
        "id": "z9spmgnPQojE",
        "outputId": "a3ab5de5-e1f7-4cca-deb7-d65093c23d83"
      },
      "execution_count": 32,
      "outputs": [
        {
          "output_type": "stream",
          "name": "stdout",
          "text": [
            "Somsri\n",
            "['Somsri', 'Somsak', 'Sompong']\n",
            "Hello ['Somsri', 'Somsak']\n"
          ]
        }
      ]
    },
    {
      "cell_type": "code",
      "source": [
        "#list > Add list\n",
        "customer_list = [\"Somsri\",\"Somsak\",\"Sompong\"]\n",
        "customer_list.append(\"hahaha\")\n",
        "customer_list.append(\"mama\")\n",
        "print(customer_list)"
      ],
      "metadata": {
        "colab": {
          "base_uri": "https://localhost:8080/"
        },
        "id": "yG7WDM1kRQ8k",
        "outputId": "88819c13-ba84-41e0-e9e6-ec3744305948"
      },
      "execution_count": 33,
      "outputs": [
        {
          "output_type": "stream",
          "name": "stdout",
          "text": [
            "['Somsri', 'Somsak', 'Sompong', 'hahaha', 'mama']\n"
          ]
        }
      ]
    },
    {
      "cell_type": "code",
      "source": [
        "#set\n",
        "customer_list = [\"Somsri\",\"Somsak\",\"Sompong\"]\n",
        "customer_list.append(\"hahaha\")\n",
        "customer_list.append(\"hahaha\")\n",
        "set_test = {\"apple\",\"banana\",\"water melon\"}\n",
        "set_test.add(\"corn\")\n",
        "set_test.add(\"corn\")\n",
        "print(customer_list)\n",
        "print(set_test)\n",
        "#set don't show the duplicated data\n",
        "#list show all the data"
      ],
      "metadata": {
        "colab": {
          "base_uri": "https://localhost:8080/"
        },
        "id": "z58m6hzzSae_",
        "outputId": "a97155f7-4c4d-4535-97d5-0da4304fb73c"
      },
      "execution_count": 37,
      "outputs": [
        {
          "output_type": "stream",
          "name": "stdout",
          "text": [
            "['Somsri', 'Somsak', 'Sompong', 'hahaha', 'hahaha']\n",
            "{'banana', 'corn', 'water melon', 'apple'}\n"
          ]
        }
      ]
    },
    {
      "cell_type": "markdown",
      "source": [
        "**BorntodevEP2**"
      ],
      "metadata": {
        "id": "Pnz6ugiiUIG9"
      }
    },
    {
      "cell_type": "code",
      "source": [
        "#Loop for>มีการวนซ้ำที่แน่นอนจนตัวสุดท้าย\n",
        "customer_list = [\"Somsri\",\"Somsak\",\"Sompong\",\"PPP\"]\n",
        "for item in customer_list:\n",
        "    text = \"Hello \" + item\n",
        "    print(text)"
      ],
      "metadata": {
        "colab": {
          "base_uri": "https://localhost:8080/"
        },
        "id": "6Jo_hCRWULab",
        "outputId": "77057330-d48c-4ee3-faf4-8436689e4c86"
      },
      "execution_count": 42,
      "outputs": [
        {
          "output_type": "stream",
          "name": "stdout",
          "text": [
            "Hello Somsri\n",
            "Hello Somsak\n",
            "Hello Sompong\n",
            "Hello PPP\n"
          ]
        }
      ]
    },
    {
      "cell_type": "code",
      "source": [
        "#Loop for>มีการวนซ้ำแบบใส่จำนวนรอบ\n",
        "for index in range(10):\n",
        "    print(index)\n",
        "\n",
        "for index in range(10):\n",
        "    print(range(10))"
      ],
      "metadata": {
        "colab": {
          "base_uri": "https://localhost:8080/"
        },
        "id": "nus3Hm3FVPaq",
        "outputId": "eb52f979-4561-4a33-c5b4-11e9981aa3b8"
      },
      "execution_count": 46,
      "outputs": [
        {
          "output_type": "stream",
          "name": "stdout",
          "text": [
            "0\n",
            "1\n",
            "2\n",
            "3\n",
            "4\n",
            "5\n",
            "6\n",
            "7\n",
            "8\n",
            "9\n",
            "range(0, 10)\n",
            "range(0, 10)\n",
            "range(0, 10)\n",
            "range(0, 10)\n",
            "range(0, 10)\n",
            "range(0, 10)\n",
            "range(0, 10)\n",
            "range(0, 10)\n",
            "range(0, 10)\n",
            "range(0, 10)\n"
          ]
        }
      ]
    },
    {
      "cell_type": "code",
      "source": [
        "for index in range(5):\n",
        "    print(\"*\"*(index+1))\n",
        ""
      ],
      "metadata": {
        "colab": {
          "base_uri": "https://localhost:8080/"
        },
        "id": "QWIXk_4AW8sG",
        "outputId": "ccfc174d-758e-425d-c685-3d56e5dd1b5b"
      },
      "execution_count": 52,
      "outputs": [
        {
          "output_type": "stream",
          "name": "stdout",
          "text": [
            "*\n",
            "**\n",
            "***\n",
            "****\n",
            "*****\n"
          ]
        }
      ]
    },
    {
      "cell_type": "code",
      "source": [
        "user_input = int(input())\n",
        "for index in range(user_input):\n",
        "    print(\"*\"*(index+1))"
      ],
      "metadata": {
        "colab": {
          "base_uri": "https://localhost:8080/"
        },
        "id": "VFHstx5bWb0m",
        "outputId": "79fdaf40-0d44-4621-fbfd-823534537cab"
      },
      "execution_count": 54,
      "outputs": [
        {
          "output_type": "stream",
          "name": "stdout",
          "text": [
            "6\n",
            "*\n",
            "**\n",
            "***\n",
            "****\n",
            "*****\n",
            "******\n"
          ]
        }
      ]
    },
    {
      "cell_type": "code",
      "source": [
        "customers = []\n",
        "user_input = int(input()) #จำนวนรอบ\n",
        "for index in range(user_input):\n",
        "    customers.append(input(\"Name of user\"+str(index)+\":\"))\n",
        "for data in customers:\n",
        "    print(\"Hello\",data)\n",
        "\n"
      ],
      "metadata": {
        "colab": {
          "base_uri": "https://localhost:8080/"
        },
        "id": "36AHwwfFYOIi",
        "outputId": "efdf754b-e735-4134-82e7-1e412f47dce4"
      },
      "execution_count": 65,
      "outputs": [
        {
          "output_type": "stream",
          "name": "stdout",
          "text": [
            "3\n",
            "Name of user0:q\n",
            "Name of user1:w\n",
            "Name of user2:e\n",
            "Hello q\n",
            "Hello w\n",
            "Hello e\n"
          ]
        }
      ]
    },
    {
      "cell_type": "code",
      "source": [
        "customers = []\n",
        "\n",
        "def inputAddUser(round):\n",
        "    for index in range(round):\n",
        "        customers.append(input(\"Name of user\"+str(index)+\":\"))\n",
        "\n",
        "def showHelloUser():\n",
        "    for data in customers:\n",
        "      print(\"Hello\",data)\n",
        "\n",
        "\n",
        "\n",
        "user_input = int(input())\n",
        "inputAddUser(user_input)\n",
        "showHelloUser()\n"
      ],
      "metadata": {
        "colab": {
          "base_uri": "https://localhost:8080/"
        },
        "id": "egd1nAowZbzf",
        "outputId": "4883868e-f174-4f54-b08e-dbad7797b4cc"
      },
      "execution_count": 67,
      "outputs": [
        {
          "output_type": "stream",
          "name": "stdout",
          "text": [
            "2\n",
            "Name of user0:a\n",
            "Name of user1:b\n",
            "Hello a\n",
            "Hello b\n"
          ]
        }
      ]
    },
    {
      "cell_type": "code",
      "source": [],
      "metadata": {
        "id": "oU1laeRtbOeO"
      },
      "execution_count": null,
      "outputs": []
    }
  ]
}